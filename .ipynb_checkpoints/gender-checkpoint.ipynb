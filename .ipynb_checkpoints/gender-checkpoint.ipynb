{
 "cells": [
  {
   "cell_type": "markdown",
   "metadata": {
    "Collapsed": "true"
   },
   "source": [
    "# Project Description"
   ]
  },
  {
   "cell_type": "markdown",
   "metadata": {
    "Collapsed": "false",
    "toc-hr-collapsed": true,
    "toc-nb-collapsed": true
   },
   "source": [
    "# Set Up"
   ]
  },
  {
   "cell_type": "markdown",
   "metadata": {
    "Collapsed": "false"
   },
   "source": [
    "## Check GPU"
   ]
  },
  {
   "cell_type": "code",
   "execution_count": 1,
   "metadata": {
    "Collapsed": "false"
   },
   "outputs": [
    {
     "data": {
      "text/plain": [
       "'2.1.0'"
      ]
     },
     "execution_count": 1,
     "metadata": {},
     "output_type": "execute_result"
    }
   ],
   "source": [
    "import tensorflow as tf\n",
    "from tensorflow.python.client import device_lib \n",
    "tf.__version__"
   ]
  },
  {
   "cell_type": "code",
   "execution_count": 2,
   "metadata": {
    "Collapsed": "false"
   },
   "outputs": [
    {
     "data": {
      "text/plain": [
       "[PhysicalDevice(name='/physical_device:GPU:0', device_type='GPU')]"
      ]
     },
     "execution_count": 2,
     "metadata": {},
     "output_type": "execute_result"
    }
   ],
   "source": [
    "tf.config.list_physical_devices('GPU')"
   ]
  },
  {
   "cell_type": "markdown",
   "metadata": {
    "Collapsed": "false"
   },
   "source": [
    "## Define Helper Functions"
   ]
  },
  {
   "cell_type": "code",
   "execution_count": 3,
   "metadata": {
    "Collapsed": "false"
   },
   "outputs": [],
   "source": [
    "def plot_loss_acc(history):\n",
    "    '''\n",
    "    Plots the training and validation accuracy and loss curves for fitted keras models\n",
    "    In: The history object of a trained keras model\n",
    "    Out: 2 Plots (Accuracy & Loss)\n",
    "    '''\n",
    "    fig, (ax1, ax2) = plt.subplots(1, 2,figsize=(15,5))  \n",
    "    fig.suptitle('Model Performance')\n",
    "\n",
    "    # summarize history for accuracy\n",
    "    ax1.plot(history.history['accuracy'])\n",
    "    ax1.plot(history.history['val_accuracy'])\n",
    "    ax1.set_title('Training and Validation Accuracy')\n",
    "    ax1.set(xlabel='Epoch', ylabel='Accuracy')    \n",
    "    ax1.legend(['Training Accuracy', 'Validation Accuracy'], loc='best')\n",
    "    \n",
    "    # summarize history for loss\n",
    "    ax2.plot(history.history['loss'])\n",
    "    ax2.plot(history.history['val_loss'])\n",
    "    ax2.set_title('Training and Validation Loss')\n",
    "    ax2.set(xlabel='Epoch', ylabel='Loss') \n",
    "    ax2.legend(['Training Loss', 'Validation Loss'], loc='best')\n",
    "    \n",
    "    return fig\n",
    "\n",
    "def plot_conf_mat(model, load=False, load_loc=None, class_lst = 'Angry Disgust Fear Happy Sad Surprise Neutral', out='model_weights/finalconf.png'):\n",
    "    import seaborn as sns\n",
    "    import pandas as pd\n",
    "    import matplotlib.pyplot as plt\n",
    "    import math\n",
    "    # 0=angry, 1=disgust,2=fear,3=happy, 4=sad, 5=surprise, 6=neutral\n",
    "    classes = class_lst.split(' ')\n",
    "    \n",
    "    number_of_examples = len(validation_generator.filenames)\n",
    "    number_of_generator_calls = math.ceil(number_of_examples / (1.0 * batch_size)) \n",
    "    # 1.0 above is to skip integer division\n",
    "    y_true = []\n",
    "    for i in range(0,int(number_of_generator_calls)):\n",
    "        y_true.extend(np.array(validation_generator[i][1]))\n",
    "        \n",
    "    print(len(y_true))\n",
    "    print('ones', sum(y_true))\n",
    "    #y_true=[np.argmax(x) for x in val_data[1]]\n",
    "\n",
    "    if load:\n",
    "        model.load_weights(load_loc)\n",
    "        mod_name = load_loc.split('-')[0]\n",
    "    else:\n",
    "        mod_name=out\n",
    "\n",
    "        \n",
    "    val_data = []\n",
    "    for i in range(0,int(number_of_generator_calls)):\n",
    "        val_data.extend(np.array(validation_generator[i][0]))\n",
    "    \n",
    "    val_data = np.array(val_data)\n",
    "    \n",
    "    print('Prediction Time')\n",
    "    y_pred=np.argmax(model.predict(val_data),axis=1)\n",
    "    \n",
    "    \n",
    "    con_mat = tf.math.confusion_matrix(labels=y_true, predictions=y_pred).numpy()\n",
    "\n",
    "    con_mat_norm = np.around(con_mat.astype('float') / con_mat.sum(axis=1)[:, np.newaxis], decimals=2)\n",
    "\n",
    "    con_mat_df = pd.DataFrame(con_mat_norm,\n",
    "                         index = classes, \n",
    "                         columns = classes)\n",
    "\n",
    "    figure = plt.figure(figsize=(8, 8))\n",
    "    ax = sns.heatmap(con_mat_df, annot=True,cmap=plt.cm.BuGn)\n",
    "    ax.set_ylim(len(classes),0)\n",
    "    plt.tight_layout()\n",
    "    plt.ylabel('True label')\n",
    "    plt.xlabel('Predicted label')\n",
    "    plt.gcf().subplots_adjust(bottom=0.15, left=0.15)\n",
    "    plt.savefig(mod_name+'_performance.png')\n",
    "    return figure"
   ]
  },
  {
   "cell_type": "markdown",
   "metadata": {
    "Collapsed": "false",
    "toc-hr-collapsed": false
   },
   "source": [
    "# Build Models"
   ]
  },
  {
   "cell_type": "markdown",
   "metadata": {
    "Collapsed": "false"
   },
   "source": [
    "## Preprocessing"
   ]
  },
  {
   "cell_type": "code",
   "execution_count": 4,
   "metadata": {
    "Collapsed": "false"
   },
   "outputs": [],
   "source": [
    "def preprocess_input(x, v2=True):\n",
    "    x = x.astype('float32')\n",
    "    x = x / 255.0\n",
    "    if v2:\n",
    "        x = x - 0.5\n",
    "        x = x * 4.0 #was 2.0\n",
    "    return x\n",
    "\n",
    "def split_data(x, y, validation_split=.2):\n",
    "    num_samples = len(x)\n",
    "    num_train_samples = int((1 - validation_split)*num_samples)\n",
    "    train_x = x[:num_train_samples]\n",
    "    train_y = y[:num_train_samples]\n",
    "    val_x = x[num_train_samples:]\n",
    "    val_y = y[num_train_samples:]\n",
    "    train_data = (train_x, train_y)\n",
    "    val_data = (val_x, val_y)\n",
    "    return train_data, val_data\n",
    "\n",
    "def split_imdb_data(ground_truth_data, validation_split=.2, do_shuffle=False):\n",
    "    ground_truth_keys = sorted(ground_truth_data.keys())\n",
    "    if do_shuffle is not False:\n",
    "        shuffle(ground_truth_keys)\n",
    "    training_split = 1 - validation_split\n",
    "    num_train = int(training_split * len(ground_truth_keys))\n",
    "    train_keys = ground_truth_keys[:num_train]\n",
    "    validation_keys = ground_truth_keys[num_train:]\n",
    "    return train_keys, validation_keys"
   ]
  },
  {
   "cell_type": "markdown",
   "metadata": {
    "Collapsed": "false"
   },
   "source": [
    "## Package Imports"
   ]
  },
  {
   "cell_type": "code",
   "execution_count": 5,
   "metadata": {
    "Collapsed": "false"
   },
   "outputs": [],
   "source": [
    "from scipy.io import loadmat\n",
    "import numpy as np\n",
    "\n",
    "from tensorflow.keras.models import Sequential\n",
    "from tensorflow.keras.layers import Conv2D, AveragePooling2D, GlobalAveragePooling2D, BatchNormalization, Activation, Dropout\n",
    "from tensorflow.keras.callbacks import CSVLogger, ModelCheckpoint, EarlyStopping, ReduceLROnPlateau\n",
    "from tensorflow.keras.preprocessing.image import ImageDataGenerator\n",
    "import matplotlib.pyplot as plt\n",
    "\n",
    "# from tensorflow.keras.callbacks import   # CALLBACKS\n",
    "# from tensorflow.keras.preprocessing.image import ImageDataGenerator\n",
    "# import pandas as pd\n",
    "# import numpy as np\n",
    "\n",
    "# \n",
    "# from tensorflow.keras.layers import Flatten, Dense\n",
    "# from tensorflow.keras import backend as K\n",
    "# from tqdm.keras import TqdmCallback\n",
    "# import matplotlib.pyplot as plt\n",
    "\n",
    "\n",
    "# import cv2\n",
    "# %matplotlib inline"
   ]
  },
  {
   "cell_type": "markdown",
   "metadata": {
    "Collapsed": "false"
   },
   "source": [
    "## Parameter Set Up"
   ]
  },
  {
   "cell_type": "code",
   "execution_count": null,
   "metadata": {},
   "outputs": [],
   "source": []
  },
  {
   "cell_type": "code",
   "execution_count": 6,
   "metadata": {
    "Collapsed": "false"
   },
   "outputs": [],
   "source": [
    "# dimensions of our images.\n",
    "image_size=(64, 64)\n",
    "image_width, image_height = 64, 64\n",
    "num_classes = 2\n",
    "\n",
    "num_epochs = 100\n",
    "batch_size = 64\n",
    "\n",
    "dataset_name = 'imdb'\n",
    "validation_split = .1\n",
    "\n",
    "# if K.image_data_format() == 'channels_first':\n",
    "#     input_shape = (1, image_width, image_height)\n",
    "# else:\n",
    "#     input_shape = (image_width, image_height, 1)\n",
    "\n",
    "\n",
    "do_random_crop = False\n",
    "patience = 100\n",
    "dataset_name = 'imdb'\n",
    "input_shape = (64, 64, 3)\n",
    "if input_shape[2] == 1:\n",
    "    grayscale = True\n",
    "    \n",
    "images_path = 'data/imdb_crop/'"
   ]
  },
  {
   "cell_type": "markdown",
   "metadata": {
    "Collapsed": "false"
   },
   "source": [
    "## Import Data"
   ]
  },
  {
   "cell_type": "code",
   "execution_count": 7,
   "metadata": {
    "Collapsed": "false"
   },
   "outputs": [],
   "source": [
    "train_data_dir = 'data/gender/train/'\n",
    "validation_data_dir = 'data/gender/test/'"
   ]
  },
  {
   "cell_type": "code",
   "execution_count": 8,
   "metadata": {
    "Collapsed": "false"
   },
   "outputs": [],
   "source": [
    "def count_num_files(root=None):\n",
    "    import os\n",
    "    count=0\n",
    "    for path, subdirs, files in os.walk(root):\n",
    "        for name in files:\n",
    "            count+=1\n",
    "        \n",
    "    return count\n",
    "\n",
    "nb_train_samples = 171098 #count_num_files('data/dataset/gender/train/')\n",
    "nb_validation_samples = 53742 #count_num_files('data/dataset/gender/test/')\n"
   ]
  },
  {
   "cell_type": "code",
   "execution_count": 10,
   "metadata": {
    "Collapsed": "false"
   },
   "outputs": [],
   "source": [
    "# face_score_treshold = 3\n",
    "# dataset = loadmat('data/imdb_crop/imdb.mat')\n",
    "# image_names_array = dataset['imdb']['full_path'][0, 0][0]\n",
    "# gender_classes = dataset['imdb']['gender'][0, 0][0]\n",
    "# face_score = dataset['imdb']['face_score'][0, 0][0]\n",
    "# second_face_score = dataset['imdb']['second_face_score'][0, 0][0]\n",
    "# face_score_mask = face_score > face_score_treshold\n",
    "# second_face_score_mask = np.isnan(second_face_score)\n",
    "# unknown_gender_mask = np.logical_not(np.isnan(gender_classes))\n",
    "# mask = np.logical_and(face_score_mask, second_face_score_mask)\n",
    "# mask = np.logical_and(mask, unknown_gender_mask)\n",
    "# image_names_array = image_names_array[mask]\n",
    "# gender_classes = gender_classes[mask].tolist()\n",
    "# image_names = []\n",
    "# for image_name_arg in range(image_names_array.shape[0]):\n",
    "#     image_name = image_names_array[image_name_arg][0]\n",
    "#     image_names.append(image_name)\n",
    "    \n",
    "    \n",
    "# ground_truth_data = dict(zip(image_names, gender_classes))\n",
    "\n",
    "# train_keys, val_keys = split_imdb_data(ground_truth_data, validation_split)\n",
    "# print('Number of training samples:', len(train_keys))\n",
    "# print('Number of validation samples:', len(val_keys))\n",
    "# train_dict = { train_key: ground_truth_data[train_key] for train_key in train_keys }\n",
    "# val_dict = { val_key: ground_truth_data[val_key] for val_key in val_keys }\n",
    "# #dict_you_want = { your_key: old_dict[your_key] for your_key in your_keys }\n",
    "# train_data_files = list(train_dict.keys())\n",
    "# train_labels = np.array(list(train_dict.values()))\n",
    "\n",
    "\n",
    "# val_data_files = list(val_dict.keys())\n",
    "# val_labels = np.array(list(val_dict.values()))\n",
    "\n",
    "# #import pandas as pd\n",
    "# #train_df = pd.DataFrame(columns=['img', 'label'])\n",
    "# def get_images(filenames, labels, data_dir='data/imdb_crop/', image_size=(64,64)):\n",
    "#     #df = pd.DataFrame(columns=['img'])\n",
    "#     a = []\n",
    "#     ctr=0\n",
    "#     for i, datapoint in enumerate(filenames):\n",
    "#         image_array = imread(data_dir+datapoint)\n",
    "#         image_array = imresize(image_array, image_size)\n",
    "#         image_array = cv2.cvtColor(\n",
    "#         image_array.astype('uint8'),\n",
    "#         cv2.COLOR_RGB2GRAY).astype('float32')\n",
    "#         image_array = np.expand_dims(image_array, -1)\n",
    "#         #df2=pd.DataFrame({'img':image_array}, index=[0])\n",
    "#         #df.append(df2, ignore_index=True)\n",
    "#         a.append(image_array)\n",
    "#     imgs = np.array(a)\n",
    "#     return imgs\n",
    "# train_imgs= get_images(train_data_files, train_labels)\n",
    "# val_imgs = get_images(train_data_files, train_labels)\n",
    "\n",
    "# val_labels.shape\n",
    "\n",
    "# from data_augmentation import *"
   ]
  },
  {
   "cell_type": "code",
   "execution_count": 9,
   "metadata": {
    "Collapsed": "false"
   },
   "outputs": [
    {
     "name": "stdout",
     "output_type": "stream",
     "text": [
      "Found 171098 images belonging to 2 classes.\n",
      "Found 53742 images belonging to 2 classes.\n"
     ]
    }
   ],
   "source": [
    "# image_generator = ImageGenerator(ground_truth_data, batch_size,\n",
    "#                                  input_shape[:2],\n",
    "#                                  train_keys, val_keys, None,\n",
    "#                                  path_prefix=images_path,\n",
    "#                                  vertical_flip_probability=0,\n",
    "#                                  grayscale=grayscale,\n",
    "#                                  do_random_crop=do_random_crop)\n",
    "\n",
    "# data_generator = ImageDataGenerator(\n",
    "#                         #rescale=1. / 255,\n",
    "#                         featurewise_center=False,\n",
    "#                         featurewise_std_normalization=False,\n",
    "#                         rotation_range=10,\n",
    "#                         width_shift_range=0.1,\n",
    "#                         height_shift_range=0.1,\n",
    "#                         zoom_range=.1,\n",
    "#                         horizontal_flip=True)\n",
    "# test_datagen = ImageDataGenerator()\n",
    "\n",
    "\n",
    "# this is the augmentation configuration we will use for training\n",
    "train_datagen = ImageDataGenerator(\n",
    "                        rescale=1. / 255,\n",
    "                        featurewise_center=False,\n",
    "                        featurewise_std_normalization=False,\n",
    "                        rotation_range=10,\n",
    "                        width_shift_range=0.1,\n",
    "                        height_shift_range=0.1,\n",
    "                        zoom_range=.1,\n",
    "                        horizontal_flip=True)\n",
    "# this is the augmentation configuration we will use for testing:\n",
    "# only rescaling\n",
    "test_datagen = ImageDataGenerator(rescale=1. / 255)\n",
    "\n",
    "train_generator = train_datagen.flow_from_directory(\n",
    "    train_data_dir,\n",
    "    target_size=(image_width, image_height),\n",
    "    batch_size=batch_size,\n",
    "    class_mode='binary')\n",
    "\n",
    "validation_generator = test_datagen.flow_from_directory(\n",
    "    validation_data_dir,\n",
    "    target_size=(image_width, image_height),\n",
    "    batch_size=batch_size,\n",
    "    class_mode='binary')"
   ]
  },
  {
   "cell_type": "code",
   "execution_count": 12,
   "metadata": {
    "Collapsed": "false"
   },
   "outputs": [],
   "source": [
    "#ImageDataGenerator?"
   ]
  },
  {
   "cell_type": "markdown",
   "metadata": {
    "Collapsed": "true"
   },
   "source": [
    "## MODEL: Simple CNN"
   ]
  },
  {
   "cell_type": "code",
   "execution_count": 13,
   "metadata": {
    "Collapsed": "false"
   },
   "outputs": [],
   "source": [
    "# simple cnn\n",
    "model = Sequential()\n",
    "model.add(Conv2D(filters=16, kernel_size=(7, 7), padding='same',\n",
    "                        name='image_array', input_shape=input_shape))\n",
    "model.add(BatchNormalization())\n",
    "model.add(Conv2D(filters=16, kernel_size=(7, 7), padding='same'))\n",
    "model.add(BatchNormalization())\n",
    "model.add(Activation('relu'))\n",
    "model.add(AveragePooling2D(pool_size=(2, 2), padding='same'))\n",
    "model.add(Dropout(.5))\n",
    "\n",
    "model.add(Conv2D(filters=32, kernel_size=(5, 5), padding='same'))\n",
    "model.add(BatchNormalization())\n",
    "model.add(Conv2D(filters=32, kernel_size=(5, 5), padding='same'))\n",
    "model.add(BatchNormalization())\n",
    "model.add(Activation('relu'))\n",
    "model.add(AveragePooling2D(pool_size=(2, 2), padding='same'))\n",
    "model.add(Dropout(.5))\n",
    "\n",
    "model.add(Conv2D(filters=64, kernel_size=(3, 3), padding='same'))\n",
    "model.add(BatchNormalization())\n",
    "model.add(Conv2D(filters=64, kernel_size=(3, 3), padding='same'))\n",
    "model.add(BatchNormalization())\n",
    "model.add(Activation('relu'))\n",
    "model.add(AveragePooling2D(pool_size=(2, 2), padding='same'))\n",
    "model.add(Dropout(.5))\n",
    "\n",
    "model.add(Conv2D(filters=128, kernel_size=(3, 3), padding='same'))\n",
    "model.add(BatchNormalization())\n",
    "model.add(Conv2D(filters=128, kernel_size=(3, 3), padding='same'))\n",
    "model.add(BatchNormalization())\n",
    "model.add(Activation('relu'))\n",
    "model.add(AveragePooling2D(pool_size=(2, 2), padding='same'))\n",
    "model.add(Dropout(.5))\n",
    "\n",
    "model.add(Conv2D(filters=256, kernel_size=(3, 3), padding='same'))\n",
    "model.add(BatchNormalization())\n",
    "model.add(Conv2D(\n",
    "    filters=num_classes, kernel_size=(3, 3), padding='same'))\n",
    "model.add(GlobalAveragePooling2D())\n",
    "model.add(Activation('softmax', name='predictions'))"
   ]
  },
  {
   "cell_type": "code",
   "execution_count": 14,
   "metadata": {
    "Collapsed": "false"
   },
   "outputs": [],
   "source": [
    "model.compile(optimizer='adam', loss='categorical_crossentropy',\n",
    "              metrics=['accuracy'])"
   ]
  },
  {
   "cell_type": "code",
   "execution_count": 15,
   "metadata": {
    "Collapsed": "false"
   },
   "outputs": [],
   "source": [
    "# simple callbacks\n",
    "log_file_path = 'logs/' + dataset_name + '_training.log'\n",
    "csv_logger = CSVLogger(log_file_path, append=False)\n",
    "\n",
    "early_stop = EarlyStopping('val_loss', patience=patience)\n",
    "\n",
    "reduce_lr = ReduceLROnPlateau('val_loss', factor=0.1, patience=int(patience/4), verbose=1)\n",
    "\n",
    "trained_models_path = 'model_weights/' + dataset_name + '_simple_CNN'\n",
    "model_names = trained_models_path + '.{epoch:02d}-{val_accuracy:.2f}.hdf5'\n",
    "model_checkpoint = ModelCheckpoint(model_names, monitor='val_accuracy', verbose=1, save_best_only=True)\n",
    "\n",
    "callbacks = [model_checkpoint, csv_logger, early_stop, reduce_lr]"
   ]
  },
  {
   "cell_type": "code",
   "execution_count": 16,
   "metadata": {
    "Collapsed": "false"
   },
   "outputs": [],
   "source": [
    "# fig = plot_conf_mat(model, load=True, load_loc='gender_models_trained/simple_CNN.81-0.96.hdf5', \n",
    "#               class_lst = 'Female Male', \n",
    "#               out='model_weights/finalconf_simplecnn.png')\n",
    "# fig.show()"
   ]
  },
  {
   "cell_type": "code",
   "execution_count": 17,
   "metadata": {
    "Collapsed": "false"
   },
   "outputs": [
    {
     "name": "stdout",
     "output_type": "stream",
     "text": [
      "WARNING:tensorflow:sample_weight modes were coerced from\n",
      "  ...\n",
      "    to  \n",
      "  ['...']\n",
      "WARNING:tensorflow:sample_weight modes were coerced from\n",
      "  ...\n",
      "    to  \n",
      "  ['...']\n",
      "Train for 855 steps, validate for 268 steps\n",
      "Epoch 1/100\n",
      "854/855 [============================>.] - ETA: 0s - loss: 0.7035 - accuracy: 0.5180\n",
      "Epoch 00001: val_accuracy improved from -inf to 0.37838, saving model to model_weights/imdb_simple_CNN.01-0.38.hdf5\n",
      "855/855 [==============================] - 570s 666ms/step - loss: 0.7034 - accuracy: 0.5180 - val_loss: 1.1610 - val_accuracy: 0.3784\n",
      "Epoch 2/100\n",
      "854/855 [============================>.] - ETA: 0s - loss: 0.7121 - accuracy: 0.5063\n",
      "Epoch 00002: val_accuracy improved from 0.37838 to 0.42420, saving model to model_weights/imdb_simple_CNN.02-0.42.hdf5\n",
      "855/855 [==============================] - 458s 536ms/step - loss: 0.7121 - accuracy: 0.5062 - val_loss: 1.1771 - val_accuracy: 0.4242\n",
      "Epoch 3/100\n",
      "854/855 [============================>.] - ETA: 0s - loss: 0.7182 - accuracy: 0.5081\n",
      "Epoch 00003: val_accuracy improved from 0.42420 to 0.76582, saving model to model_weights/imdb_simple_CNN.03-0.77.hdf5\n",
      "855/855 [==============================] - 426s 498ms/step - loss: 0.7181 - accuracy: 0.5081 - val_loss: 1.1832 - val_accuracy: 0.7658\n",
      "Epoch 4/100\n",
      "854/855 [============================>.] - ETA: 0s - loss: 0.7236 - accuracy: 0.5060\n",
      "Epoch 00004: val_accuracy did not improve from 0.76582\n",
      "855/855 [==============================] - 425s 497ms/step - loss: 0.7235 - accuracy: 0.5060 - val_loss: 1.1555 - val_accuracy: 0.7409\n",
      "Epoch 5/100\n",
      "854/855 [============================>.] - ETA: 0s - loss: 0.7280 - accuracy: 0.5066\n",
      "Epoch 00005: val_accuracy did not improve from 0.76582\n",
      "855/855 [==============================] - 425s 497ms/step - loss: 0.7281 - accuracy: 0.5066 - val_loss: 1.1517 - val_accuracy: 0.5876\n",
      "Epoch 6/100\n",
      "854/855 [============================>.] - ETA: 0s - loss: 0.7327 - accuracy: 0.5074\n",
      "Epoch 00006: val_accuracy did not improve from 0.76582\n",
      "855/855 [==============================] - 426s 498ms/step - loss: 0.7327 - accuracy: 0.5074 - val_loss: 1.1570 - val_accuracy: 0.4150\n",
      "Epoch 7/100\n",
      "854/855 [============================>.] - ETA: 0s - loss: 0.7372 - accuracy: 0.5050\n",
      "Epoch 00007: val_accuracy did not improve from 0.76582\n",
      "855/855 [==============================] - 426s 498ms/step - loss: 0.7371 - accuracy: 0.5050 - val_loss: 1.1629 - val_accuracy: 0.7526\n",
      "Epoch 8/100\n",
      "854/855 [============================>.] - ETA: 0s - loss: 0.7410 - accuracy: 0.5077\n",
      "Epoch 00008: val_accuracy did not improve from 0.76582\n",
      "855/855 [==============================] - 432s 505ms/step - loss: 0.7410 - accuracy: 0.5078 - val_loss: 1.1828 - val_accuracy: 0.7175\n",
      "Epoch 9/100\n",
      "854/855 [============================>.] - ETA: 0s - loss: 0.7405 - accuracy: 0.5073\n",
      "Epoch 00009: val_accuracy did not improve from 0.76582\n",
      "855/855 [==============================] - 426s 498ms/step - loss: 0.7406 - accuracy: 0.5073 - val_loss: 1.1934 - val_accuracy: 0.7039\n",
      "Epoch 10/100\n",
      "854/855 [============================>.] - ETA: 0s - loss: 0.7430 - accuracy: 0.5069\n",
      "Epoch 00010: val_accuracy did not improve from 0.76582\n",
      "855/855 [==============================] - 426s 498ms/step - loss: 0.7430 - accuracy: 0.5069 - val_loss: 1.1575 - val_accuracy: 0.3318\n",
      "Epoch 11/100\n",
      "854/855 [============================>.] - ETA: 0s - loss: 0.7449 - accuracy: 0.5060\n",
      "Epoch 00011: val_accuracy did not improve from 0.76582\n",
      "855/855 [==============================] - 426s 498ms/step - loss: 0.7449 - accuracy: 0.5060 - val_loss: 1.1615 - val_accuracy: 0.6696\n",
      "Epoch 12/100\n",
      "854/855 [============================>.] - ETA: 0s - loss: 0.7461 - accuracy: 0.5096\n",
      "Epoch 00012: val_accuracy did not improve from 0.76582\n",
      "855/855 [==============================] - 426s 498ms/step - loss: 0.7462 - accuracy: 0.5095 - val_loss: 1.2714 - val_accuracy: 0.2341\n",
      "Epoch 13/100\n",
      "854/855 [============================>.] - ETA: 0s - loss: 0.7423 - accuracy: 0.5091\n",
      "Epoch 00013: val_accuracy did not improve from 0.76582\n",
      "855/855 [==============================] - 426s 498ms/step - loss: 0.7424 - accuracy: 0.5090 - val_loss: 1.1586 - val_accuracy: 0.6697\n",
      "Epoch 14/100\n",
      "854/855 [============================>.] - ETA: 0s - loss: 0.7440 - accuracy: 0.5128\n",
      "Epoch 00014: val_accuracy did not improve from 0.76582\n",
      "855/855 [==============================] - 426s 498ms/step - loss: 0.7440 - accuracy: 0.5128 - val_loss: 1.1574 - val_accuracy: 0.3563\n",
      "Epoch 15/100\n",
      "854/855 [============================>.] - ETA: 0s - loss: 0.7495 - accuracy: 0.5105\n",
      "Epoch 00015: val_accuracy did not improve from 0.76582\n",
      "855/855 [==============================] - 426s 498ms/step - loss: 0.7495 - accuracy: 0.5105 - val_loss: 1.1529 - val_accuracy: 0.5191\n",
      "Epoch 16/100\n",
      "854/855 [============================>.] - ETA: 0s - loss: 0.7577 - accuracy: 0.5104\n",
      "Epoch 00016: val_accuracy improved from 0.76582 to 0.77825, saving model to model_weights/imdb_simple_CNN.16-0.78.hdf5\n",
      "855/855 [==============================] - 426s 499ms/step - loss: 0.7577 - accuracy: 0.5104 - val_loss: 1.1662 - val_accuracy: 0.7782\n",
      "Epoch 17/100\n",
      "854/855 [============================>.] - ETA: 0s - loss: 0.7571 - accuracy: 0.5131\n",
      "Epoch 00017: val_accuracy did not improve from 0.77825\n",
      "855/855 [==============================] - 426s 499ms/step - loss: 0.7570 - accuracy: 0.5131 - val_loss: 1.1631 - val_accuracy: 0.3084\n",
      "Epoch 18/100\n",
      "854/855 [============================>.] - ETA: 0s - loss: 0.7666 - accuracy: 0.5092\n",
      "Epoch 00018: val_accuracy did not improve from 0.77825\n",
      "855/855 [==============================] - 426s 499ms/step - loss: 0.7665 - accuracy: 0.5092 - val_loss: 1.2654 - val_accuracy: 0.2105\n",
      "Epoch 19/100\n",
      "854/855 [============================>.] - ETA: 0s - loss: 0.7866 - accuracy: 0.5083\n",
      "Epoch 00019: val_accuracy did not improve from 0.77825\n",
      "855/855 [==============================] - 426s 499ms/step - loss: 0.7867 - accuracy: 0.5083 - val_loss: 1.3327 - val_accuracy: 0.2258\n",
      "Epoch 20/100\n",
      "854/855 [============================>.] - ETA: 0s - loss: 0.8050 - accuracy: 0.5015\n",
      "Epoch 00020: val_accuracy did not improve from 0.77825\n",
      "855/855 [==============================] - 426s 499ms/step - loss: 0.8051 - accuracy: 0.5015 - val_loss: 1.4036 - val_accuracy: 0.2546\n",
      "Epoch 21/100\n",
      "854/855 [============================>.] - ETA: 0s - loss: 0.8217 - accuracy: 0.5013\n",
      "Epoch 00021: val_accuracy improved from 0.77825 to 0.80562, saving model to model_weights/imdb_simple_CNN.21-0.81.hdf5\n",
      "855/855 [==============================] - 426s 499ms/step - loss: 0.8217 - accuracy: 0.5013 - val_loss: 1.3545 - val_accuracy: 0.8056\n",
      "Epoch 22/100\n",
      "854/855 [============================>.] - ETA: 0s - loss: 0.8386 - accuracy: 0.4993\n",
      "Epoch 00022: val_accuracy did not improve from 0.80562\n",
      "855/855 [==============================] - 426s 498ms/step - loss: 0.8386 - accuracy: 0.4994 - val_loss: 1.4406 - val_accuracy: 0.1653\n",
      "Epoch 23/100\n",
      "854/855 [============================>.] - ETA: 0s - loss: 0.8615 - accuracy: 0.5023\n",
      "Epoch 00023: val_accuracy did not improve from 0.80562\n",
      "855/855 [==============================] - 426s 498ms/step - loss: 0.8614 - accuracy: 0.5023 - val_loss: 1.3665 - val_accuracy: 0.7896\n",
      "Epoch 24/100\n",
      "854/855 [============================>.] - ETA: 0s - loss: 0.8801 - accuracy: 0.5003\n",
      "Epoch 00024: val_accuracy did not improve from 0.80562\n",
      "855/855 [==============================] - 426s 498ms/step - loss: 0.8803 - accuracy: 0.5003 - val_loss: 1.4594 - val_accuracy: 0.1883\n",
      "Epoch 25/100\n",
      "854/855 [============================>.] - ETA: 0s - loss: 0.8979 - accuracy: 0.5003\n",
      "Epoch 00025: val_accuracy improved from 0.80562 to 0.81709, saving model to model_weights/imdb_simple_CNN.25-0.82.hdf5\n",
      "855/855 [==============================] - 426s 498ms/step - loss: 0.8980 - accuracy: 0.5003 - val_loss: 1.7494 - val_accuracy: 0.8171\n",
      "Epoch 26/100\n",
      "854/855 [============================>.] - ETA: 0s - loss: 0.9195 - accuracy: 0.4994\n",
      "Epoch 00026: val_accuracy did not improve from 0.81709\n",
      "855/855 [==============================] - 426s 498ms/step - loss: 0.9196 - accuracy: 0.4994 - val_loss: 1.6742 - val_accuracy: 0.1888\n",
      "Epoch 27/100\n",
      "854/855 [============================>.] - ETA: 0s - loss: 0.9412 - accuracy: 0.4986\n",
      "Epoch 00027: val_accuracy did not improve from 0.81709\n",
      "855/855 [==============================] - 426s 498ms/step - loss: 0.9413 - accuracy: 0.4985 - val_loss: 1.6355 - val_accuracy: 0.8067\n",
      "Epoch 28/100\n",
      "854/855 [============================>.] - ETA: 0s - loss: 0.9613 - accuracy: 0.5002\n",
      "Epoch 00028: val_accuracy did not improve from 0.81709\n",
      "855/855 [==============================] - 426s 498ms/step - loss: 0.9614 - accuracy: 0.5003 - val_loss: 1.7510 - val_accuracy: 0.2042\n",
      "Epoch 29/100\n",
      "854/855 [============================>.] - ETA: 0s - loss: 0.9834 - accuracy: 0.4997\n",
      "Epoch 00029: val_accuracy did not improve from 0.81709\n",
      "855/855 [==============================] - 426s 498ms/step - loss: 0.9834 - accuracy: 0.4996 - val_loss: 1.7979 - val_accuracy: 0.7796\n",
      "Epoch 30/100\n",
      "854/855 [============================>.] - ETA: 0s - loss: 1.0043 - accuracy: 0.5002\n",
      "Epoch 00030: val_accuracy did not improve from 0.81709\n",
      "\n",
      "Epoch 00030: ReduceLROnPlateau reducing learning rate to 0.00010000000474974513.\n",
      "855/855 [==============================] - 426s 498ms/step - loss: 1.0042 - accuracy: 0.5002 - val_loss: 1.9192 - val_accuracy: 0.2089\n",
      "Epoch 31/100\n",
      "854/855 [============================>.] - ETA: 0s - loss: 0.7081 - accuracy: 0.5740\n",
      "Epoch 00031: val_accuracy did not improve from 0.81709\n",
      "855/855 [==============================] - 426s 498ms/step - loss: 0.7081 - accuracy: 0.5740 - val_loss: 1.1650 - val_accuracy: 0.5772\n",
      "Epoch 32/100\n",
      "854/855 [============================>.] - ETA: 0s - loss: 0.7058 - accuracy: 0.5699\n",
      "Epoch 00032: val_accuracy did not improve from 0.81709\n",
      "855/855 [==============================] - 426s 498ms/step - loss: 0.7058 - accuracy: 0.5700 - val_loss: 1.1652 - val_accuracy: 0.5540\n",
      "Epoch 33/100\n",
      "854/855 [============================>.] - ETA: 0s - loss: 0.7065 - accuracy: 0.5708\n",
      "Epoch 00033: val_accuracy did not improve from 0.81709\n",
      "855/855 [==============================] - 426s 498ms/step - loss: 0.7065 - accuracy: 0.5707 - val_loss: 1.1663 - val_accuracy: 0.5176\n",
      "Epoch 34/100\n",
      "854/855 [============================>.] - ETA: 0s - loss: 0.7064 - accuracy: 0.5689\n",
      "Epoch 00034: val_accuracy did not improve from 0.81709\n",
      "855/855 [==============================] - 426s 498ms/step - loss: 0.7063 - accuracy: 0.5689 - val_loss: 1.1653 - val_accuracy: 0.5480\n",
      "Epoch 35/100\n",
      "854/855 [============================>.] - ETA: 0s - loss: 0.7063 - accuracy: 0.5737\n",
      "Epoch 00035: val_accuracy did not improve from 0.81709\n",
      "855/855 [==============================] - 426s 498ms/step - loss: 0.7064 - accuracy: 0.5737 - val_loss: 1.1653 - val_accuracy: 0.5211\n",
      "Epoch 36/100\n",
      "854/855 [============================>.] - ETA: 0s - loss: 0.7065 - accuracy: 0.5726\n",
      "Epoch 00036: val_accuracy did not improve from 0.81709\n",
      "855/855 [==============================] - 426s 498ms/step - loss: 0.7066 - accuracy: 0.5726 - val_loss: 1.1670 - val_accuracy: 0.5954\n",
      "Epoch 37/100\n",
      "854/855 [============================>.] - ETA: 0s - loss: 0.7067 - accuracy: 0.5734\n",
      "Epoch 00037: val_accuracy did not improve from 0.81709\n",
      "855/855 [==============================] - 427s 499ms/step - loss: 0.7068 - accuracy: 0.5734 - val_loss: 1.1695 - val_accuracy: 0.6450\n",
      "Epoch 38/100\n",
      "854/855 [============================>.] - ETA: 0s - loss: 0.7071 - accuracy: 0.5718\n",
      "Epoch 00038: val_accuracy did not improve from 0.81709\n",
      "855/855 [==============================] - 426s 498ms/step - loss: 0.7070 - accuracy: 0.5718 - val_loss: 1.1675 - val_accuracy: 0.6358\n",
      "Epoch 39/100\n",
      "854/855 [============================>.] - ETA: 0s - loss: 0.7072 - accuracy: 0.5725\n",
      "Epoch 00039: val_accuracy did not improve from 0.81709\n",
      "855/855 [==============================] - 426s 498ms/step - loss: 0.7070 - accuracy: 0.5726 - val_loss: 1.1682 - val_accuracy: 0.6308\n",
      "Epoch 40/100\n",
      "854/855 [============================>.] - ETA: 0s - loss: 0.7074 - accuracy: 0.5713\n",
      "Epoch 00040: val_accuracy did not improve from 0.81709\n",
      "855/855 [==============================] - 426s 498ms/step - loss: 0.7077 - accuracy: 0.5713 - val_loss: 1.1682 - val_accuracy: 0.5636\n",
      "Epoch 41/100\n",
      "854/855 [============================>.] - ETA: 0s - loss: 0.7075 - accuracy: 0.5740\n",
      "Epoch 00041: val_accuracy did not improve from 0.81709\n",
      "855/855 [==============================] - 426s 498ms/step - loss: 0.7074 - accuracy: 0.5740 - val_loss: 1.1685 - val_accuracy: 0.5384\n",
      "Epoch 42/100\n",
      "854/855 [============================>.] - ETA: 0s - loss: 0.7075 - accuracy: 0.5723\n",
      "Epoch 00042: val_accuracy did not improve from 0.81709\n",
      "855/855 [==============================] - 426s 498ms/step - loss: 0.7074 - accuracy: 0.5723 - val_loss: 1.1727 - val_accuracy: 0.6645\n",
      "Epoch 43/100\n",
      "854/855 [============================>.] - ETA: 0s - loss: 0.7079 - accuracy: 0.5715\n",
      "Epoch 00043: val_accuracy did not improve from 0.81709\n",
      "855/855 [==============================] - 426s 498ms/step - loss: 0.7077 - accuracy: 0.5714 - val_loss: 1.1688 - val_accuracy: 0.6307\n",
      "Epoch 44/100\n",
      "854/855 [============================>.] - ETA: 0s - loss: 0.7083 - accuracy: 0.5706\n",
      "Epoch 00044: val_accuracy did not improve from 0.81709\n",
      "855/855 [==============================] - 426s 498ms/step - loss: 0.7083 - accuracy: 0.5706 - val_loss: 1.1696 - val_accuracy: 0.5761\n",
      "Epoch 45/100\n",
      "854/855 [============================>.] - ETA: 0s - loss: 0.7079 - accuracy: 0.5725\n",
      "Epoch 00045: val_accuracy did not improve from 0.81709\n",
      "855/855 [==============================] - 426s 498ms/step - loss: 0.7079 - accuracy: 0.5725 - val_loss: 1.1692 - val_accuracy: 0.5420\n",
      "Epoch 46/100\n",
      "854/855 [============================>.] - ETA: 0s - loss: 0.7079 - accuracy: 0.5735\n",
      "Epoch 00046: val_accuracy did not improve from 0.81709\n",
      "855/855 [==============================] - 426s 498ms/step - loss: 0.7079 - accuracy: 0.5735 - val_loss: 1.1801 - val_accuracy: 0.6915\n",
      "Epoch 47/100\n",
      "854/855 [============================>.] - ETA: 0s - loss: 0.7084 - accuracy: 0.5711\n",
      "Epoch 00047: val_accuracy did not improve from 0.81709\n",
      "855/855 [==============================] - 426s 498ms/step - loss: 0.7085 - accuracy: 0.5712 - val_loss: 1.1713 - val_accuracy: 0.5147\n",
      "Epoch 48/100\n",
      "854/855 [============================>.] - ETA: 0s - loss: 0.7086 - accuracy: 0.5723\n",
      "Epoch 00048: val_accuracy did not improve from 0.81709\n",
      "855/855 [==============================] - 426s 498ms/step - loss: 0.7085 - accuracy: 0.5723 - val_loss: 1.1721 - val_accuracy: 0.5234\n",
      "Epoch 49/100\n",
      "854/855 [============================>.] - ETA: 0s - loss: 0.7088 - accuracy: 0.5683\n",
      "Epoch 00049: val_accuracy did not improve from 0.81709\n",
      "855/855 [==============================] - 426s 498ms/step - loss: 0.7088 - accuracy: 0.5683 - val_loss: 1.1817 - val_accuracy: 0.7039\n",
      "Epoch 50/100\n",
      "854/855 [============================>.] - ETA: 0s - loss: 0.7090 - accuracy: 0.5702\n",
      "Epoch 00050: val_accuracy did not improve from 0.81709\n",
      "855/855 [==============================] - 426s 498ms/step - loss: 0.7089 - accuracy: 0.5702 - val_loss: 1.1751 - val_accuracy: 0.5006\n",
      "Epoch 51/100\n",
      "854/855 [============================>.] - ETA: 0s - loss: 0.7090 - accuracy: 0.5710\n",
      "Epoch 00051: val_accuracy did not improve from 0.81709\n",
      "855/855 [==============================] - 426s 498ms/step - loss: 0.7091 - accuracy: 0.5709 - val_loss: 1.1794 - val_accuracy: 0.4440\n",
      "Epoch 52/100\n",
      "854/855 [============================>.] - ETA: 0s - loss: 0.7095 - accuracy: 0.5690\n",
      "Epoch 00052: val_accuracy did not improve from 0.81709\n",
      "855/855 [==============================] - 426s 498ms/step - loss: 0.7095 - accuracy: 0.5690 - val_loss: 1.1800 - val_accuracy: 0.6768\n",
      "Epoch 53/100\n",
      "854/855 [============================>.] - ETA: 0s - loss: 0.7095 - accuracy: 0.5720\n",
      "Epoch 00053: val_accuracy did not improve from 0.81709\n",
      "855/855 [==============================] - 426s 498ms/step - loss: 0.7094 - accuracy: 0.5719 - val_loss: 1.1796 - val_accuracy: 0.6928\n",
      "Epoch 54/100\n",
      "854/855 [============================>.] - ETA: 0s - loss: 0.7097 - accuracy: 0.5731\n",
      "Epoch 00054: val_accuracy did not improve from 0.81709\n",
      "855/855 [==============================] - 426s 498ms/step - loss: 0.7097 - accuracy: 0.5730 - val_loss: 1.1895 - val_accuracy: 0.7113\n",
      "Epoch 55/100\n",
      "854/855 [============================>.] - ETA: 0s - loss: 0.7100 - accuracy: 0.5674\n",
      "Epoch 00055: val_accuracy did not improve from 0.81709\n",
      "\n",
      "Epoch 00055: ReduceLROnPlateau reducing learning rate to 1.0000000474974514e-05.\n",
      "855/855 [==============================] - 426s 498ms/step - loss: 0.7101 - accuracy: 0.5674 - val_loss: 1.1752 - val_accuracy: 0.5072\n",
      "Epoch 56/100\n",
      "854/855 [============================>.] - ETA: 0s - loss: 0.7087 - accuracy: 0.5753\n",
      "Epoch 00056: val_accuracy did not improve from 0.81709\n",
      "855/855 [==============================] - 426s 498ms/step - loss: 0.7087 - accuracy: 0.5753 - val_loss: 1.1722 - val_accuracy: 0.5681\n",
      "Epoch 57/100\n",
      "854/855 [============================>.] - ETA: 0s - loss: 0.7086 - accuracy: 0.5708\n",
      "Epoch 00057: val_accuracy did not improve from 0.81709\n",
      "855/855 [==============================] - 426s 498ms/step - loss: 0.7088 - accuracy: 0.5708 - val_loss: 1.1721 - val_accuracy: 0.5691\n",
      "Epoch 58/100\n",
      "854/855 [============================>.] - ETA: 0s - loss: 0.7087 - accuracy: 0.5723\n",
      "Epoch 00058: val_accuracy did not improve from 0.81709\n",
      "855/855 [==============================] - 426s 498ms/step - loss: 0.7087 - accuracy: 0.5723 - val_loss: 1.1717 - val_accuracy: 0.5708\n",
      "Epoch 59/100\n",
      "854/855 [============================>.] - ETA: 0s - loss: 0.7091 - accuracy: 0.5731\n",
      "Epoch 00059: val_accuracy did not improve from 0.81709\n",
      "855/855 [==============================] - 426s 498ms/step - loss: 0.7090 - accuracy: 0.5731 - val_loss: 1.1716 - val_accuracy: 0.5671\n",
      "Epoch 60/100\n",
      "854/855 [============================>.] - ETA: 0s - loss: 0.7090 - accuracy: 0.5747\n",
      "Epoch 00060: val_accuracy did not improve from 0.81709\n",
      "855/855 [==============================] - 425s 498ms/step - loss: 0.7089 - accuracy: 0.5746 - val_loss: 1.1720 - val_accuracy: 0.5749\n",
      "Epoch 61/100\n",
      "854/855 [============================>.] - ETA: 0s - loss: 0.7088 - accuracy: 0.5705\n",
      "Epoch 00061: val_accuracy did not improve from 0.81709\n",
      "855/855 [==============================] - 426s 498ms/step - loss: 0.7090 - accuracy: 0.5705 - val_loss: 1.1723 - val_accuracy: 0.5697\n",
      "Epoch 62/100\n",
      "854/855 [============================>.] - ETA: 0s - loss: 0.7088 - accuracy: 0.5746\n",
      "Epoch 00062: val_accuracy did not improve from 0.81709\n",
      "855/855 [==============================] - 426s 498ms/step - loss: 0.7089 - accuracy: 0.5746 - val_loss: 1.1711 - val_accuracy: 0.5723\n",
      "Epoch 63/100\n",
      "854/855 [============================>.] - ETA: 0s - loss: 0.7089 - accuracy: 0.5727\n",
      "Epoch 00063: val_accuracy did not improve from 0.81709\n",
      "855/855 [==============================] - 426s 498ms/step - loss: 0.7088 - accuracy: 0.5727 - val_loss: 1.1719 - val_accuracy: 0.5625\n",
      "Epoch 64/100\n",
      "854/855 [============================>.] - ETA: 0s - loss: 0.7092 - accuracy: 0.5722\n",
      "Epoch 00064: val_accuracy did not improve from 0.81709\n",
      "855/855 [==============================] - 426s 498ms/step - loss: 0.7091 - accuracy: 0.5722 - val_loss: 1.1719 - val_accuracy: 0.5687\n",
      "Epoch 65/100\n",
      "854/855 [============================>.] - ETA: 0s - loss: 0.7088 - accuracy: 0.5710\n",
      "Epoch 00065: val_accuracy did not improve from 0.81709\n",
      "855/855 [==============================] - 426s 498ms/step - loss: 0.7088 - accuracy: 0.5711 - val_loss: 1.1717 - val_accuracy: 0.5710\n",
      "Epoch 66/100\n",
      "854/855 [============================>.] - ETA: 0s - loss: 0.7090 - accuracy: 0.5730\n",
      "Epoch 00066: val_accuracy did not improve from 0.81709\n",
      "855/855 [==============================] - 426s 498ms/step - loss: 0.7090 - accuracy: 0.5729 - val_loss: 1.1718 - val_accuracy: 0.5680\n",
      "Epoch 67/100\n",
      "854/855 [============================>.] - ETA: 0s - loss: 0.7089 - accuracy: 0.5731\n",
      "Epoch 00067: val_accuracy did not improve from 0.81709\n",
      "855/855 [==============================] - 426s 498ms/step - loss: 0.7089 - accuracy: 0.5731 - val_loss: 1.1727 - val_accuracy: 0.5665\n",
      "Epoch 68/100\n",
      "854/855 [============================>.] - ETA: 0s - loss: 0.7089 - accuracy: 0.5730\n",
      "Epoch 00068: val_accuracy did not improve from 0.81709\n",
      "855/855 [==============================] - 426s 498ms/step - loss: 0.7088 - accuracy: 0.5730 - val_loss: 1.1713 - val_accuracy: 0.5698\n",
      "Epoch 69/100\n",
      "854/855 [============================>.] - ETA: 0s - loss: 0.7091 - accuracy: 0.5722\n",
      "Epoch 00069: val_accuracy did not improve from 0.81709\n",
      "855/855 [==============================] - 425s 497ms/step - loss: 0.7091 - accuracy: 0.5722 - val_loss: 1.1718 - val_accuracy: 0.5654\n",
      "Epoch 70/100\n",
      "854/855 [============================>.] - ETA: 0s - loss: 0.7089 - accuracy: 0.5734\n",
      "Epoch 00070: val_accuracy did not improve from 0.81709\n",
      "855/855 [==============================] - 425s 497ms/step - loss: 0.7089 - accuracy: 0.5734 - val_loss: 1.1725 - val_accuracy: 0.5671\n",
      "Epoch 71/100\n",
      "854/855 [============================>.] - ETA: 0s - loss: 0.7093 - accuracy: 0.5744\n",
      "Epoch 00071: val_accuracy did not improve from 0.81709\n",
      "855/855 [==============================] - 425s 497ms/step - loss: 0.7093 - accuracy: 0.5744 - val_loss: 1.1715 - val_accuracy: 0.5688\n",
      "Epoch 72/100\n",
      "854/855 [============================>.] - ETA: 0s - loss: 0.7092 - accuracy: 0.5738\n",
      "Epoch 00072: val_accuracy did not improve from 0.81709\n",
      "855/855 [==============================] - 425s 497ms/step - loss: 0.7093 - accuracy: 0.5739 - val_loss: 1.1716 - val_accuracy: 0.5746\n",
      "Epoch 73/100\n",
      "854/855 [============================>.] - ETA: 0s - loss: 0.7089 - accuracy: 0.5735\n",
      "Epoch 00073: val_accuracy did not improve from 0.81709\n",
      "855/855 [==============================] - 425s 497ms/step - loss: 0.7089 - accuracy: 0.5735 - val_loss: 1.1721 - val_accuracy: 0.5648\n",
      "Epoch 74/100\n",
      "854/855 [============================>.] - ETA: 0s - loss: 0.7091 - accuracy: 0.5727\n",
      "Epoch 00074: val_accuracy did not improve from 0.81709\n",
      "855/855 [==============================] - 425s 497ms/step - loss: 0.7090 - accuracy: 0.5726 - val_loss: 1.1730 - val_accuracy: 0.5685\n",
      "Epoch 75/100\n",
      "854/855 [============================>.] - ETA: 0s - loss: 0.7090 - accuracy: 0.5743\n",
      "Epoch 00075: val_accuracy did not improve from 0.81709\n",
      "855/855 [==============================] - 425s 497ms/step - loss: 0.7090 - accuracy: 0.5743 - val_loss: 1.1728 - val_accuracy: 0.5644\n",
      "Epoch 76/100\n",
      "854/855 [============================>.] - ETA: 0s - loss: 0.7090 - accuracy: 0.5725\n",
      "Epoch 00076: val_accuracy did not improve from 0.81709\n",
      "855/855 [==============================] - 425s 497ms/step - loss: 0.7091 - accuracy: 0.5726 - val_loss: 1.1722 - val_accuracy: 0.5700\n",
      "Epoch 77/100\n",
      "854/855 [============================>.] - ETA: 0s - loss: 0.7093 - accuracy: 0.5717\n",
      "Epoch 00077: val_accuracy did not improve from 0.81709\n",
      "855/855 [==============================] - 425s 497ms/step - loss: 0.7092 - accuracy: 0.5717 - val_loss: 1.1729 - val_accuracy: 0.5707\n",
      "Epoch 78/100\n",
      "854/855 [============================>.] - ETA: 0s - loss: 0.7094 - accuracy: 0.5750\n",
      "Epoch 00078: val_accuracy did not improve from 0.81709\n",
      "855/855 [==============================] - 426s 498ms/step - loss: 0.7093 - accuracy: 0.5750 - val_loss: 1.1715 - val_accuracy: 0.5692\n",
      "Epoch 79/100\n",
      "854/855 [============================>.] - ETA: 0s - loss: 0.7093 - accuracy: 0.5717\n",
      "Epoch 00079: val_accuracy did not improve from 0.81709\n",
      "855/855 [==============================] - 425s 497ms/step - loss: 0.7093 - accuracy: 0.5718 - val_loss: 1.1722 - val_accuracy: 0.5691\n",
      "Epoch 80/100\n",
      "854/855 [============================>.] - ETA: 0s - loss: 0.7093 - accuracy: 0.5707\n",
      "Epoch 00080: val_accuracy did not improve from 0.81709\n",
      "\n",
      "Epoch 00080: ReduceLROnPlateau reducing learning rate to 1.0000000656873453e-06.\n",
      "855/855 [==============================] - 457s 534ms/step - loss: 0.7093 - accuracy: 0.5707 - val_loss: 1.1718 - val_accuracy: 0.5669\n",
      "Epoch 81/100\n",
      "854/855 [============================>.] - ETA: 0s - loss: 0.7093 - accuracy: 0.5750\n",
      "Epoch 00081: val_accuracy did not improve from 0.81709\n",
      "855/855 [==============================] - 425s 497ms/step - loss: 0.7093 - accuracy: 0.5750 - val_loss: 1.1721 - val_accuracy: 0.5722\n",
      "Epoch 82/100\n",
      "854/855 [============================>.] - ETA: 0s - loss: 0.7092 - accuracy: 0.5737\n",
      "Epoch 00082: val_accuracy did not improve from 0.81709\n",
      "855/855 [==============================] - 425s 497ms/step - loss: 0.7093 - accuracy: 0.5738 - val_loss: 1.1724 - val_accuracy: 0.5677\n",
      "Epoch 83/100\n",
      "854/855 [============================>.] - ETA: 0s - loss: 0.7092 - accuracy: 0.5739\n",
      "Epoch 00083: val_accuracy did not improve from 0.81709\n",
      "855/855 [==============================] - 425s 497ms/step - loss: 0.7091 - accuracy: 0.5739 - val_loss: 1.1722 - val_accuracy: 0.5678\n",
      "Epoch 84/100\n",
      "854/855 [============================>.] - ETA: 0s - loss: 0.7091 - accuracy: 0.5749\n",
      "Epoch 00084: val_accuracy did not improve from 0.81709\n",
      "855/855 [==============================] - 426s 498ms/step - loss: 0.7092 - accuracy: 0.5749 - val_loss: 1.1725 - val_accuracy: 0.5662\n",
      "Epoch 85/100\n",
      "854/855 [============================>.] - ETA: 0s - loss: 0.7092 - accuracy: 0.5746\n",
      "Epoch 00085: val_accuracy did not improve from 0.81709\n",
      "855/855 [==============================] - 437s 511ms/step - loss: 0.7092 - accuracy: 0.5746 - val_loss: 1.1728 - val_accuracy: 0.5657\n",
      "Epoch 86/100\n",
      "854/855 [============================>.] - ETA: 0s - loss: 0.7092 - accuracy: 0.5728\n",
      "Epoch 00086: val_accuracy did not improve from 0.81709\n",
      "855/855 [==============================] - 429s 502ms/step - loss: 0.7092 - accuracy: 0.5728 - val_loss: 1.1720 - val_accuracy: 0.5675\n",
      "Epoch 87/100\n",
      "854/855 [============================>.] - ETA: 0s - loss: 0.7091 - accuracy: 0.5729\n",
      "Epoch 00087: val_accuracy did not improve from 0.81709\n",
      "855/855 [==============================] - 480s 561ms/step - loss: 0.7091 - accuracy: 0.5729 - val_loss: 1.1725 - val_accuracy: 0.5644\n",
      "Epoch 88/100\n",
      "854/855 [============================>.] - ETA: 0s - loss: 0.7094 - accuracy: 0.5758\n",
      "Epoch 00088: val_accuracy did not improve from 0.81709\n",
      "855/855 [==============================] - 526s 615ms/step - loss: 0.7094 - accuracy: 0.5757 - val_loss: 1.1728 - val_accuracy: 0.5622\n",
      "Epoch 89/100\n",
      "854/855 [============================>.] - ETA: 0s - loss: 0.7091 - accuracy: 0.5743\n",
      "Epoch 00089: val_accuracy did not improve from 0.81709\n",
      "855/855 [==============================] - 459s 537ms/step - loss: 0.7092 - accuracy: 0.5743 - val_loss: 1.1724 - val_accuracy: 0.5663\n",
      "Epoch 90/100\n",
      "854/855 [============================>.] - ETA: 0s - loss: 0.7092 - accuracy: 0.5735\n",
      "Epoch 00090: val_accuracy did not improve from 0.81709\n",
      "855/855 [==============================] - 430s 503ms/step - loss: 0.7092 - accuracy: 0.5735 - val_loss: 1.1725 - val_accuracy: 0.5642\n",
      "Epoch 91/100\n",
      "854/855 [============================>.] - ETA: 0s - loss: 0.7094 - accuracy: 0.5737\n",
      "Epoch 00091: val_accuracy did not improve from 0.81709\n",
      "855/855 [==============================] - 425s 497ms/step - loss: 0.7093 - accuracy: 0.5737 - val_loss: 1.1723 - val_accuracy: 0.5662\n",
      "Epoch 92/100\n",
      "854/855 [============================>.] - ETA: 0s - loss: 0.7094 - accuracy: 0.5736\n",
      "Epoch 00092: val_accuracy did not improve from 0.81709\n",
      "855/855 [==============================] - 425s 497ms/step - loss: 0.7094 - accuracy: 0.5737 - val_loss: 1.1721 - val_accuracy: 0.5633\n",
      "Epoch 93/100\n",
      "854/855 [============================>.] - ETA: 0s - loss: 0.7091 - accuracy: 0.5742\n",
      "Epoch 00093: val_accuracy did not improve from 0.81709\n",
      "855/855 [==============================] - 425s 497ms/step - loss: 0.7092 - accuracy: 0.5742 - val_loss: 1.1726 - val_accuracy: 0.5644\n",
      "Epoch 94/100\n",
      "854/855 [============================>.] - ETA: 0s - loss: 0.7093 - accuracy: 0.5735\n",
      "Epoch 00094: val_accuracy did not improve from 0.81709\n",
      "855/855 [==============================] - 425s 497ms/step - loss: 0.7093 - accuracy: 0.5735 - val_loss: 1.1724 - val_accuracy: 0.5673\n",
      "Epoch 95/100\n",
      "854/855 [============================>.] - ETA: 0s - loss: 0.7094 - accuracy: 0.5729\n",
      "Epoch 00095: val_accuracy did not improve from 0.81709\n",
      "855/855 [==============================] - 425s 497ms/step - loss: 0.7093 - accuracy: 0.5729 - val_loss: 1.1719 - val_accuracy: 0.5664\n",
      "Epoch 96/100\n",
      "854/855 [============================>.] - ETA: 0s - loss: 0.7095 - accuracy: 0.5733\n",
      "Epoch 00096: val_accuracy did not improve from 0.81709\n",
      "855/855 [==============================] - 425s 497ms/step - loss: 0.7094 - accuracy: 0.5733 - val_loss: 1.1720 - val_accuracy: 0.5633\n",
      "Epoch 97/100\n",
      "854/855 [============================>.] - ETA: 0s - loss: 0.7093 - accuracy: 0.5748\n",
      "Epoch 00097: val_accuracy did not improve from 0.81709\n",
      "855/855 [==============================] - 425s 497ms/step - loss: 0.7093 - accuracy: 0.5748 - val_loss: 1.1724 - val_accuracy: 0.5592\n",
      "Epoch 98/100\n",
      "854/855 [============================>.] - ETA: 0s - loss: 0.7094 - accuracy: 0.5727\n",
      "Epoch 00098: val_accuracy did not improve from 0.81709\n",
      "855/855 [==============================] - 426s 498ms/step - loss: 0.7092 - accuracy: 0.5727 - val_loss: 1.1723 - val_accuracy: 0.5607\n",
      "Epoch 99/100\n",
      "854/855 [============================>.] - ETA: 0s - loss: 0.7095 - accuracy: 0.5720\n",
      "Epoch 00099: val_accuracy did not improve from 0.81709\n",
      "855/855 [==============================] - 431s 504ms/step - loss: 0.7094 - accuracy: 0.5721 - val_loss: 1.1725 - val_accuracy: 0.5595\n",
      "Epoch 100/100\n",
      "854/855 [============================>.] - ETA: 0s - loss: 0.7094 - accuracy: 0.5747\n",
      "Epoch 00100: val_accuracy did not improve from 0.81709\n",
      "855/855 [==============================] - 427s 500ms/step - loss: 0.7095 - accuracy: 0.5747 - val_loss: 1.1725 - val_accuracy: 0.5585\n"
     ]
    }
   ],
   "source": [
    "history_simpleCNN = model.fit(train_generator, steps_per_epoch=nb_train_samples // batch_size, \n",
    "                                 epochs=num_epochs, validation_data=validation_generator, \n",
    "                                 validation_steps=nb_validation_samples // batch_size, verbose=1,\n",
    "                                 callbacks=callbacks)"
   ]
  },
  {
   "cell_type": "code",
   "execution_count": 22,
   "metadata": {
    "Collapsed": "false"
   },
   "outputs": [
    {
     "name": "stderr",
     "output_type": "stream",
     "text": [
      "C:\\Users\\s\\Anaconda3\\lib\\site-packages\\ipykernel_launcher.py:3: UserWarning: Matplotlib is currently using module://ipykernel.pylab.backend_inline, which is a non-GUI backend, so cannot show the figure.\n",
      "  This is separate from the ipykernel package so we can avoid doing imports until\n"
     ]
    },
    {
     "data": {
      "image/png": "[encoded data removed]",
      "text/plain": [
       "<Figure size 1080x360 with 2 Axes>"
      ]
     },
     "metadata": {
      "needs_background": "light"
     },
     "output_type": "display_data"
    }
   ],
   "source": [
    "fig = plot_loss_acc(history_simpleCNN)\n",
    "fig.savefig('simpleCNN.gender.losscurve.png')\n",
    "fig.show()"
   ]
  },
  {
   "cell_type": "markdown",
   "metadata": {
    "Collapsed": "true"
   },
   "source": [
    "## MODEL: mini XCEPTION"
   ]
  },
  {
   "cell_type": "code",
   "execution_count": 23,
   "metadata": {
    "Collapsed": "false"
   },
   "outputs": [],
   "source": [
    "# mini XCEPTION callbacks\n",
    "log_file_path = 'logs/' + dataset_name + '_training.log'\n",
    "csv_logger = CSVLogger(log_file_path, append=False)\n",
    "\n",
    "early_stop = EarlyStopping('val_loss', patience=patience)\n",
    "\n",
    "reduce_lr = ReduceLROnPlateau('val_loss', factor=0.1, patience=int(patience/4), verbose=1)\n",
    "\n",
    "trained_models_path = 'model_weights_gender_miniXception/' + dataset_name + '_mini_XCEPTION'\n",
    "model_names = trained_models_path + '.{epoch:02d}-{val_accuracy:.2f}.hdf5'\n",
    "model_checkpoint = ModelCheckpoint(model_names, monitor='val_accuracy', verbose=1, save_best_only=True)\n",
    "\n",
    "callbacks = [model_checkpoint, csv_logger, early_stop, reduce_lr]"
   ]
  },
  {
   "cell_type": "code",
   "execution_count": 24,
   "metadata": {
    "Collapsed": "false"
   },
   "outputs": [],
   "source": [
    "#mini_XCEPTION\n",
    "from tensorflow.keras.regularizers import l2\n",
    "from tensorflow.keras.layers import Input\n",
    "from tensorflow.keras.layers import SeparableConv2D, MaxPooling2D\n",
    "from tensorflow.keras import layers\n",
    "from tensorflow.keras.models import Model\n",
    "\n",
    "l2_regularization=0.06\n",
    "\n",
    "regularization = l2(l2_regularization)\n",
    "\n",
    "# base\n",
    "img_input = Input(input_shape)\n",
    "x = Conv2D(8, (3, 3), strides=(1, 1), kernel_regularizer=regularization,\n",
    "           use_bias=False)(img_input)\n",
    "x = BatchNormalization()(x)\n",
    "x = Activation('relu')(x)\n",
    "x = Conv2D(8, (3, 3), strides=(1, 1), kernel_regularizer=regularization,\n",
    "           use_bias=False)(x)\n",
    "x = BatchNormalization()(x)\n",
    "x = Activation('relu')(x)\n",
    "\n",
    "# module 1\n",
    "residual = Conv2D(16, (1, 1), strides=(2, 2),\n",
    "                  padding='same', use_bias=False)(x)\n",
    "residual = BatchNormalization()(residual)\n",
    "\n",
    "x = SeparableConv2D(16, (3, 3), padding='same',\n",
    "                    kernel_regularizer=regularization,\n",
    "                    use_bias=False)(x)\n",
    "x = BatchNormalization()(x)\n",
    "x = Activation('relu')(x)\n",
    "x = SeparableConv2D(16, (3, 3), padding='same',\n",
    "                    kernel_regularizer=regularization,\n",
    "                    use_bias=False)(x)\n",
    "x = BatchNormalization()(x)\n",
    "\n",
    "x = MaxPooling2D((3, 3), strides=(2, 2), padding='same')(x)\n",
    "x = layers.add([x, residual])\n",
    "\n",
    "# module 2\n",
    "residual = Conv2D(32, (1, 1), strides=(2, 2),\n",
    "                  padding='same', use_bias=False)(x)\n",
    "residual = BatchNormalization()(residual)\n",
    "\n",
    "x = SeparableConv2D(32, (3, 3), padding='same',\n",
    "                    kernel_regularizer=regularization,\n",
    "                    use_bias=False)(x)\n",
    "x = BatchNormalization()(x)\n",
    "x = Activation('relu')(x)\n",
    "x = SeparableConv2D(32, (3, 3), padding='same',\n",
    "                    kernel_regularizer=regularization,\n",
    "                    use_bias=False)(x)\n",
    "x = BatchNormalization()(x)\n",
    "\n",
    "x = MaxPooling2D((3, 3), strides=(2, 2), padding='same')(x)\n",
    "x = layers.add([x, residual])\n",
    "\n",
    "# module 3\n",
    "residual = Conv2D(64, (1, 1), strides=(2, 2),\n",
    "                  padding='same', use_bias=False)(x)\n",
    "residual = BatchNormalization()(residual)\n",
    "\n",
    "x = SeparableConv2D(64, (3, 3), padding='same',\n",
    "                    kernel_regularizer=regularization,\n",
    "                    use_bias=False)(x)\n",
    "x = BatchNormalization()(x)\n",
    "x = Activation('relu')(x)\n",
    "x = SeparableConv2D(64, (3, 3), padding='same',\n",
    "                    kernel_regularizer=regularization,\n",
    "                    use_bias=False)(x)\n",
    "x = BatchNormalization()(x)\n",
    "\n",
    "x = MaxPooling2D((3, 3), strides=(2, 2), padding='same')(x)\n",
    "x = layers.add([x, residual])\n",
    "\n",
    "# module 4\n",
    "residual = Conv2D(128, (1, 1), strides=(2, 2),\n",
    "                  padding='same', use_bias=False)(x)\n",
    "residual = BatchNormalization()(residual)\n",
    "\n",
    "x = SeparableConv2D(128, (3, 3), padding='same',\n",
    "                    kernel_regularizer=regularization,\n",
    "                    use_bias=False)(x)\n",
    "x = BatchNormalization()(x)\n",
    "x = Activation('relu')(x)\n",
    "x = SeparableConv2D(128, (3, 3), padding='same',\n",
    "                    kernel_regularizer=regularization,\n",
    "                    use_bias=False)(x)\n",
    "x = BatchNormalization()(x)\n",
    "\n",
    "x = MaxPooling2D((3, 3), strides=(2, 2), padding='same')(x)\n",
    "x = layers.add([x, residual])\n",
    "\n",
    "x = Conv2D(num_classes, (3, 3),\n",
    "           # kernel_regularizer=regularization,\n",
    "           padding='same')(x)\n",
    "x = GlobalAveragePooling2D()(x)\n",
    "output = Activation('softmax', name='predictions')(x)\n",
    "\n",
    "model = Model(img_input, output)"
   ]
  },
  {
   "cell_type": "code",
   "execution_count": 25,
   "metadata": {
    "Collapsed": "false"
   },
   "outputs": [],
   "source": [
    "model.compile(optimizer='adam', loss='categorical_crossentropy',\n",
    "              metrics=['accuracy'])"
   ]
  },
  {
   "cell_type": "code",
   "execution_count": 26,
   "metadata": {
    "Collapsed": "false"
   },
   "outputs": [],
   "source": [
    "# fig = plot_conf_mat(model, load=True, load_loc='gender_models_trained/gender_mini_XCEPTION.21-0.95.hdf5', \n",
    "#               class_lst = 'Female Male', \n",
    "#               out='model_weights/finalconf_genderxecption.png')\n",
    "# fig.show()"
   ]
  },
  {
   "cell_type": "code",
   "execution_count": 27,
   "metadata": {
    "Collapsed": "false"
   },
   "outputs": [
    {
     "name": "stdout",
     "output_type": "stream",
     "text": [
      "WARNING:tensorflow:sample_weight modes were coerced from\n",
      "  ...\n",
      "    to  \n",
      "  ['...']\n",
      "WARNING:tensorflow:sample_weight modes were coerced from\n",
      "  ...\n",
      "    to  \n",
      "  ['...']\n",
      "Train for 855 steps, validate for 268 steps\n",
      "Epoch 1/100\n",
      " 64/855 [=>............................] - ETA: 5:31 - loss: 1.3596 - accuracy: 0.4910"
     ]
    },
    {
     "ename": "KeyError",
     "evalue": "'val_accuracy'",
     "output_type": "error",
     "traceback": [
      "\u001b[1;31m---------------------------------------------------------------------------\u001b[0m",
      "\u001b[1;31mKeyboardInterrupt\u001b[0m                         Traceback (most recent call last)",
      "\u001b[1;32m~\\Anaconda3\\lib\\site-packages\\tensorflow_core\\python\\keras\\engine\\training_v2.py\u001b[0m in \u001b[0;36mon_epoch\u001b[1;34m(self, epoch, mode)\u001b[0m\n\u001b[0;32m    766\u001b[0m     \u001b[1;32mtry\u001b[0m\u001b[1;33m:\u001b[0m\u001b[1;33m\u001b[0m\u001b[1;33m\u001b[0m\u001b[0m\n\u001b[1;32m--> 767\u001b[1;33m       \u001b[1;32myield\u001b[0m \u001b[0mepoch_logs\u001b[0m\u001b[1;33m\u001b[0m\u001b[1;33m\u001b[0m\u001b[0m\n\u001b[0m\u001b[0;32m    768\u001b[0m     \u001b[1;32mfinally\u001b[0m\u001b[1;33m:\u001b[0m\u001b[1;33m\u001b[0m\u001b[1;33m\u001b[0m\u001b[0m\n",
      "\u001b[1;32m~\\Anaconda3\\lib\\site-packages\\tensorflow_core\\python\\keras\\engine\\training_v2.py\u001b[0m in \u001b[0;36mfit\u001b[1;34m(self, model, x, y, batch_size, epochs, verbose, callbacks, validation_split, validation_data, shuffle, class_weight, sample_weight, initial_epoch, steps_per_epoch, validation_steps, validation_freq, max_queue_size, workers, use_multiprocessing, **kwargs)\u001b[0m\n\u001b[0;32m    341\u001b[0m                 \u001b[0mtraining_context\u001b[0m\u001b[1;33m=\u001b[0m\u001b[0mtraining_context\u001b[0m\u001b[1;33m,\u001b[0m\u001b[1;33m\u001b[0m\u001b[1;33m\u001b[0m\u001b[0m\n\u001b[1;32m--> 342\u001b[1;33m                 total_epochs=epochs)\n\u001b[0m\u001b[0;32m    343\u001b[0m             \u001b[0mcbks\u001b[0m\u001b[1;33m.\u001b[0m\u001b[0mmake_logs\u001b[0m\u001b[1;33m(\u001b[0m\u001b[0mmodel\u001b[0m\u001b[1;33m,\u001b[0m \u001b[0mepoch_logs\u001b[0m\u001b[1;33m,\u001b[0m \u001b[0mtraining_result\u001b[0m\u001b[1;33m,\u001b[0m \u001b[0mModeKeys\u001b[0m\u001b[1;33m.\u001b[0m\u001b[0mTRAIN\u001b[0m\u001b[1;33m)\u001b[0m\u001b[1;33m\u001b[0m\u001b[1;33m\u001b[0m\u001b[0m\n",
      "\u001b[1;32m~\\Anaconda3\\lib\\site-packages\\tensorflow_core\\python\\keras\\engine\\training_v2.py\u001b[0m in \u001b[0;36mrun_one_epoch\u001b[1;34m(model, iterator, execution_function, dataset_size, batch_size, strategy, steps_per_epoch, num_samples, mode, training_context, total_epochs)\u001b[0m\n\u001b[0;32m    127\u001b[0m       \u001b[1;32mtry\u001b[0m\u001b[1;33m:\u001b[0m\u001b[1;33m\u001b[0m\u001b[1;33m\u001b[0m\u001b[0m\n\u001b[1;32m--> 128\u001b[1;33m         \u001b[0mbatch_outs\u001b[0m \u001b[1;33m=\u001b[0m \u001b[0mexecution_function\u001b[0m\u001b[1;33m(\u001b[0m\u001b[0miterator\u001b[0m\u001b[1;33m)\u001b[0m\u001b[1;33m\u001b[0m\u001b[1;33m\u001b[0m\u001b[0m\n\u001b[0m\u001b[0;32m    129\u001b[0m       \u001b[1;32mexcept\u001b[0m \u001b[1;33m(\u001b[0m\u001b[0mStopIteration\u001b[0m\u001b[1;33m,\u001b[0m \u001b[0merrors\u001b[0m\u001b[1;33m.\u001b[0m\u001b[0mOutOfRangeError\u001b[0m\u001b[1;33m)\u001b[0m\u001b[1;33m:\u001b[0m\u001b[1;33m\u001b[0m\u001b[1;33m\u001b[0m\u001b[0m\n",
      "\u001b[1;32m~\\Anaconda3\\lib\\site-packages\\tensorflow_core\\python\\keras\\engine\\training_v2_utils.py\u001b[0m in \u001b[0;36mexecution_function\u001b[1;34m(input_fn)\u001b[0m\n\u001b[0;32m     97\u001b[0m     return nest.map_structure(_non_none_constant_value,\n\u001b[1;32m---> 98\u001b[1;33m                               distributed_function(input_fn))\n\u001b[0m\u001b[0;32m     99\u001b[0m \u001b[1;33m\u001b[0m\u001b[0m\n",
      "\u001b[1;32m~\\Anaconda3\\lib\\site-packages\\tensorflow_core\\python\\util\\nest.py\u001b[0m in \u001b[0;36mmap_structure\u001b[1;34m(func, *structure, **kwargs)\u001b[0m\n\u001b[0;32m    567\u001b[0m   return pack_sequence_as(\n\u001b[1;32m--> 568\u001b[1;33m       \u001b[0mstructure\u001b[0m\u001b[1;33m[\u001b[0m\u001b[1;36m0\u001b[0m\u001b[1;33m]\u001b[0m\u001b[1;33m,\u001b[0m \u001b[1;33m[\u001b[0m\u001b[0mfunc\u001b[0m\u001b[1;33m(\u001b[0m\u001b[1;33m*\u001b[0m\u001b[0mx\u001b[0m\u001b[1;33m)\u001b[0m \u001b[1;32mfor\u001b[0m \u001b[0mx\u001b[0m \u001b[1;32min\u001b[0m \u001b[0mentries\u001b[0m\u001b[1;33m]\u001b[0m\u001b[1;33m,\u001b[0m\u001b[1;33m\u001b[0m\u001b[1;33m\u001b[0m\u001b[0m\n\u001b[0m\u001b[0;32m    569\u001b[0m       expand_composites=expand_composites)\n",
      "\u001b[1;32m~\\Anaconda3\\lib\\site-packages\\tensorflow_core\\python\\util\\nest.py\u001b[0m in \u001b[0;36m<listcomp>\u001b[1;34m(.0)\u001b[0m\n\u001b[0;32m    567\u001b[0m   return pack_sequence_as(\n\u001b[1;32m--> 568\u001b[1;33m       \u001b[0mstructure\u001b[0m\u001b[1;33m[\u001b[0m\u001b[1;36m0\u001b[0m\u001b[1;33m]\u001b[0m\u001b[1;33m,\u001b[0m \u001b[1;33m[\u001b[0m\u001b[0mfunc\u001b[0m\u001b[1;33m(\u001b[0m\u001b[1;33m*\u001b[0m\u001b[0mx\u001b[0m\u001b[1;33m)\u001b[0m \u001b[1;32mfor\u001b[0m \u001b[0mx\u001b[0m \u001b[1;32min\u001b[0m \u001b[0mentries\u001b[0m\u001b[1;33m]\u001b[0m\u001b[1;33m,\u001b[0m\u001b[1;33m\u001b[0m\u001b[1;33m\u001b[0m\u001b[0m\n\u001b[0m\u001b[0;32m    569\u001b[0m       expand_composites=expand_composites)\n",
      "\u001b[1;32m~\\Anaconda3\\lib\\site-packages\\tensorflow_core\\python\\keras\\engine\\training_v2_utils.py\u001b[0m in \u001b[0;36m_non_none_constant_value\u001b[1;34m(v)\u001b[0m\n\u001b[0;32m    129\u001b[0m \u001b[1;32mdef\u001b[0m \u001b[0m_non_none_constant_value\u001b[0m\u001b[1;33m(\u001b[0m\u001b[0mv\u001b[0m\u001b[1;33m)\u001b[0m\u001b[1;33m:\u001b[0m\u001b[1;33m\u001b[0m\u001b[1;33m\u001b[0m\u001b[0m\n\u001b[1;32m--> 130\u001b[1;33m   \u001b[0mconstant_value\u001b[0m \u001b[1;33m=\u001b[0m \u001b[0mtensor_util\u001b[0m\u001b[1;33m.\u001b[0m\u001b[0mconstant_value\u001b[0m\u001b[1;33m(\u001b[0m\u001b[0mv\u001b[0m\u001b[1;33m)\u001b[0m\u001b[1;33m\u001b[0m\u001b[1;33m\u001b[0m\u001b[0m\n\u001b[0m\u001b[0;32m    131\u001b[0m   \u001b[1;32mreturn\u001b[0m \u001b[0mconstant_value\u001b[0m \u001b[1;32mif\u001b[0m \u001b[0mconstant_value\u001b[0m \u001b[1;32mis\u001b[0m \u001b[1;32mnot\u001b[0m \u001b[1;32mNone\u001b[0m \u001b[1;32melse\u001b[0m \u001b[0mv\u001b[0m\u001b[1;33m\u001b[0m\u001b[1;33m\u001b[0m\u001b[0m\n",
      "\u001b[1;32m~\\Anaconda3\\lib\\site-packages\\tensorflow_core\\python\\framework\\tensor_util.py\u001b[0m in \u001b[0;36mconstant_value\u001b[1;34m(tensor, partial)\u001b[0m\n\u001b[0;32m    821\u001b[0m   \u001b[1;32mif\u001b[0m \u001b[0misinstance\u001b[0m\u001b[1;33m(\u001b[0m\u001b[0mtensor\u001b[0m\u001b[1;33m,\u001b[0m \u001b[0mops\u001b[0m\u001b[1;33m.\u001b[0m\u001b[0mEagerTensor\u001b[0m\u001b[1;33m)\u001b[0m\u001b[1;33m:\u001b[0m\u001b[1;33m\u001b[0m\u001b[1;33m\u001b[0m\u001b[0m\n\u001b[1;32m--> 822\u001b[1;33m     \u001b[1;32mreturn\u001b[0m \u001b[0mtensor\u001b[0m\u001b[1;33m.\u001b[0m\u001b[0mnumpy\u001b[0m\u001b[1;33m(\u001b[0m\u001b[1;33m)\u001b[0m\u001b[1;33m\u001b[0m\u001b[1;33m\u001b[0m\u001b[0m\n\u001b[0m\u001b[0;32m    823\u001b[0m   \u001b[1;32mif\u001b[0m \u001b[1;32mnot\u001b[0m \u001b[0mis_tensor\u001b[0m\u001b[1;33m(\u001b[0m\u001b[0mtensor\u001b[0m\u001b[1;33m)\u001b[0m\u001b[1;33m:\u001b[0m\u001b[1;33m\u001b[0m\u001b[1;33m\u001b[0m\u001b[0m\n",
      "\u001b[1;32m~\\Anaconda3\\lib\\site-packages\\tensorflow_core\\python\\framework\\ops.py\u001b[0m in \u001b[0;36mnumpy\u001b[1;34m(self)\u001b[0m\n\u001b[0;32m    941\u001b[0m     \u001b[1;31m# TODO(slebedev): Consider avoiding a copy for non-CPU or remote tensors.\u001b[0m\u001b[1;33m\u001b[0m\u001b[1;33m\u001b[0m\u001b[1;33m\u001b[0m\u001b[0m\n\u001b[1;32m--> 942\u001b[1;33m     \u001b[0mmaybe_arr\u001b[0m \u001b[1;33m=\u001b[0m \u001b[0mself\u001b[0m\u001b[1;33m.\u001b[0m\u001b[0m_numpy\u001b[0m\u001b[1;33m(\u001b[0m\u001b[1;33m)\u001b[0m  \u001b[1;31m# pylint: disable=protected-access\u001b[0m\u001b[1;33m\u001b[0m\u001b[1;33m\u001b[0m\u001b[0m\n\u001b[0m\u001b[0;32m    943\u001b[0m     \u001b[1;32mreturn\u001b[0m \u001b[0mmaybe_arr\u001b[0m\u001b[1;33m.\u001b[0m\u001b[0mcopy\u001b[0m\u001b[1;33m(\u001b[0m\u001b[1;33m)\u001b[0m \u001b[1;32mif\u001b[0m \u001b[0misinstance\u001b[0m\u001b[1;33m(\u001b[0m\u001b[0mmaybe_arr\u001b[0m\u001b[1;33m,\u001b[0m \u001b[0mnp\u001b[0m\u001b[1;33m.\u001b[0m\u001b[0mndarray\u001b[0m\u001b[1;33m)\u001b[0m \u001b[1;32melse\u001b[0m \u001b[0mmaybe_arr\u001b[0m\u001b[1;33m\u001b[0m\u001b[1;33m\u001b[0m\u001b[0m\n",
      "\u001b[1;32m~\\Anaconda3\\lib\\site-packages\\tensorflow_core\\python\\framework\\ops.py\u001b[0m in \u001b[0;36m_numpy\u001b[1;34m(self)\u001b[0m\n\u001b[0;32m    907\u001b[0m     \u001b[1;32mtry\u001b[0m\u001b[1;33m:\u001b[0m\u001b[1;33m\u001b[0m\u001b[1;33m\u001b[0m\u001b[0m\n\u001b[1;32m--> 908\u001b[1;33m       \u001b[1;32mreturn\u001b[0m \u001b[0mself\u001b[0m\u001b[1;33m.\u001b[0m\u001b[0m_numpy_internal\u001b[0m\u001b[1;33m(\u001b[0m\u001b[1;33m)\u001b[0m\u001b[1;33m\u001b[0m\u001b[1;33m\u001b[0m\u001b[0m\n\u001b[0m\u001b[0;32m    909\u001b[0m     \u001b[1;32mexcept\u001b[0m \u001b[0mcore\u001b[0m\u001b[1;33m.\u001b[0m\u001b[0m_NotOkStatusException\u001b[0m \u001b[1;32mas\u001b[0m \u001b[0me\u001b[0m\u001b[1;33m:\u001b[0m\u001b[1;33m\u001b[0m\u001b[1;33m\u001b[0m\u001b[0m\n",
      "\u001b[1;31mKeyboardInterrupt\u001b[0m: ",
      "\nDuring handling of the above exception, another exception occurred:\n",
      "\u001b[1;31mKeyError\u001b[0m                                  Traceback (most recent call last)",
      "\u001b[1;32m<ipython-input-27-a516ab74e1c7>\u001b[0m in \u001b[0;36m<module>\u001b[1;34m\u001b[0m\n\u001b[0;32m      2\u001b[0m                                  \u001b[0mepochs\u001b[0m\u001b[1;33m=\u001b[0m\u001b[0mnum_epochs\u001b[0m\u001b[1;33m,\u001b[0m \u001b[0mvalidation_data\u001b[0m\u001b[1;33m=\u001b[0m\u001b[0mvalidation_generator\u001b[0m\u001b[1;33m,\u001b[0m\u001b[1;33m\u001b[0m\u001b[1;33m\u001b[0m\u001b[0m\n\u001b[0;32m      3\u001b[0m                                  \u001b[0mvalidation_steps\u001b[0m\u001b[1;33m=\u001b[0m\u001b[0mnb_validation_samples\u001b[0m \u001b[1;33m//\u001b[0m \u001b[0mbatch_size\u001b[0m\u001b[1;33m,\u001b[0m \u001b[0mverbose\u001b[0m\u001b[1;33m=\u001b[0m\u001b[1;36m1\u001b[0m\u001b[1;33m,\u001b[0m\u001b[1;33m\u001b[0m\u001b[1;33m\u001b[0m\u001b[0m\n\u001b[1;32m----> 4\u001b[1;33m                                  callbacks=callbacks)\n\u001b[0m",
      "\u001b[1;32m~\\Anaconda3\\lib\\site-packages\\tensorflow_core\\python\\keras\\engine\\training.py\u001b[0m in \u001b[0;36mfit\u001b[1;34m(self, x, y, batch_size, epochs, verbose, callbacks, validation_split, validation_data, shuffle, class_weight, sample_weight, initial_epoch, steps_per_epoch, validation_steps, validation_freq, max_queue_size, workers, use_multiprocessing, **kwargs)\u001b[0m\n\u001b[0;32m    817\u001b[0m         \u001b[0mmax_queue_size\u001b[0m\u001b[1;33m=\u001b[0m\u001b[0mmax_queue_size\u001b[0m\u001b[1;33m,\u001b[0m\u001b[1;33m\u001b[0m\u001b[1;33m\u001b[0m\u001b[0m\n\u001b[0;32m    818\u001b[0m         \u001b[0mworkers\u001b[0m\u001b[1;33m=\u001b[0m\u001b[0mworkers\u001b[0m\u001b[1;33m,\u001b[0m\u001b[1;33m\u001b[0m\u001b[1;33m\u001b[0m\u001b[0m\n\u001b[1;32m--> 819\u001b[1;33m         use_multiprocessing=use_multiprocessing)\n\u001b[0m\u001b[0;32m    820\u001b[0m \u001b[1;33m\u001b[0m\u001b[0m\n\u001b[0;32m    821\u001b[0m   def evaluate(self,\n",
      "\u001b[1;32m~\\Anaconda3\\lib\\site-packages\\tensorflow_core\\python\\keras\\engine\\training_v2.py\u001b[0m in \u001b[0;36mfit\u001b[1;34m(self, model, x, y, batch_size, epochs, verbose, callbacks, validation_split, validation_data, shuffle, class_weight, sample_weight, initial_epoch, steps_per_epoch, validation_steps, validation_freq, max_queue_size, workers, use_multiprocessing, **kwargs)\u001b[0m\n\u001b[0;32m    395\u001b[0m                       total_epochs=1)\n\u001b[0;32m    396\u001b[0m                   cbks.make_logs(model, epoch_logs, eval_result, ModeKeys.TEST,\n\u001b[1;32m--> 397\u001b[1;33m                                  prefix='val_')\n\u001b[0m\u001b[0;32m    398\u001b[0m \u001b[1;33m\u001b[0m\u001b[0m\n\u001b[0;32m    399\u001b[0m     \u001b[1;32mreturn\u001b[0m \u001b[0mmodel\u001b[0m\u001b[1;33m.\u001b[0m\u001b[0mhistory\u001b[0m\u001b[1;33m\u001b[0m\u001b[1;33m\u001b[0m\u001b[0m\n",
      "\u001b[1;32m~\\Anaconda3\\lib\\contextlib.py\u001b[0m in \u001b[0;36m__exit__\u001b[1;34m(self, type, value, traceback)\u001b[0m\n\u001b[0;32m    128\u001b[0m                 \u001b[0mvalue\u001b[0m \u001b[1;33m=\u001b[0m \u001b[0mtype\u001b[0m\u001b[1;33m(\u001b[0m\u001b[1;33m)\u001b[0m\u001b[1;33m\u001b[0m\u001b[1;33m\u001b[0m\u001b[0m\n\u001b[0;32m    129\u001b[0m             \u001b[1;32mtry\u001b[0m\u001b[1;33m:\u001b[0m\u001b[1;33m\u001b[0m\u001b[1;33m\u001b[0m\u001b[0m\n\u001b[1;32m--> 130\u001b[1;33m                 \u001b[0mself\u001b[0m\u001b[1;33m.\u001b[0m\u001b[0mgen\u001b[0m\u001b[1;33m.\u001b[0m\u001b[0mthrow\u001b[0m\u001b[1;33m(\u001b[0m\u001b[0mtype\u001b[0m\u001b[1;33m,\u001b[0m \u001b[0mvalue\u001b[0m\u001b[1;33m,\u001b[0m \u001b[0mtraceback\u001b[0m\u001b[1;33m)\u001b[0m\u001b[1;33m\u001b[0m\u001b[1;33m\u001b[0m\u001b[0m\n\u001b[0m\u001b[0;32m    131\u001b[0m             \u001b[1;32mexcept\u001b[0m \u001b[0mStopIteration\u001b[0m \u001b[1;32mas\u001b[0m \u001b[0mexc\u001b[0m\u001b[1;33m:\u001b[0m\u001b[1;33m\u001b[0m\u001b[1;33m\u001b[0m\u001b[0m\n\u001b[0;32m    132\u001b[0m                 \u001b[1;31m# Suppress StopIteration *unless* it's the same exception that\u001b[0m\u001b[1;33m\u001b[0m\u001b[1;33m\u001b[0m\u001b[1;33m\u001b[0m\u001b[0m\n",
      "\u001b[1;32m~\\Anaconda3\\lib\\site-packages\\tensorflow_core\\python\\keras\\engine\\training_v2.py\u001b[0m in \u001b[0;36mon_epoch\u001b[1;34m(self, epoch, mode)\u001b[0m\n\u001b[0;32m    769\u001b[0m       \u001b[1;32mif\u001b[0m \u001b[0mmode\u001b[0m \u001b[1;33m==\u001b[0m \u001b[0mModeKeys\u001b[0m\u001b[1;33m.\u001b[0m\u001b[0mTRAIN\u001b[0m\u001b[1;33m:\u001b[0m\u001b[1;33m\u001b[0m\u001b[1;33m\u001b[0m\u001b[0m\n\u001b[0;32m    770\u001b[0m         \u001b[1;31m# Epochs only apply to `fit`.\u001b[0m\u001b[1;33m\u001b[0m\u001b[1;33m\u001b[0m\u001b[1;33m\u001b[0m\u001b[0m\n\u001b[1;32m--> 771\u001b[1;33m         \u001b[0mself\u001b[0m\u001b[1;33m.\u001b[0m\u001b[0mcallbacks\u001b[0m\u001b[1;33m.\u001b[0m\u001b[0mon_epoch_end\u001b[0m\u001b[1;33m(\u001b[0m\u001b[0mepoch\u001b[0m\u001b[1;33m,\u001b[0m \u001b[0mepoch_logs\u001b[0m\u001b[1;33m)\u001b[0m\u001b[1;33m\u001b[0m\u001b[1;33m\u001b[0m\u001b[0m\n\u001b[0m\u001b[0;32m    772\u001b[0m       \u001b[0mself\u001b[0m\u001b[1;33m.\u001b[0m\u001b[0mprogbar\u001b[0m\u001b[1;33m.\u001b[0m\u001b[0mon_epoch_end\u001b[0m\u001b[1;33m(\u001b[0m\u001b[0mepoch\u001b[0m\u001b[1;33m,\u001b[0m \u001b[0mepoch_logs\u001b[0m\u001b[1;33m)\u001b[0m\u001b[1;33m\u001b[0m\u001b[1;33m\u001b[0m\u001b[0m\n\u001b[0;32m    773\u001b[0m \u001b[1;33m\u001b[0m\u001b[0m\n",
      "\u001b[1;32m~\\Anaconda3\\lib\\site-packages\\tensorflow_core\\python\\keras\\callbacks.py\u001b[0m in \u001b[0;36mon_epoch_end\u001b[1;34m(self, epoch, logs)\u001b[0m\n\u001b[0;32m    300\u001b[0m     \u001b[0mlogs\u001b[0m \u001b[1;33m=\u001b[0m \u001b[0mlogs\u001b[0m \u001b[1;32mor\u001b[0m \u001b[1;33m{\u001b[0m\u001b[1;33m}\u001b[0m\u001b[1;33m\u001b[0m\u001b[1;33m\u001b[0m\u001b[0m\n\u001b[0;32m    301\u001b[0m     \u001b[1;32mfor\u001b[0m \u001b[0mcallback\u001b[0m \u001b[1;32min\u001b[0m \u001b[0mself\u001b[0m\u001b[1;33m.\u001b[0m\u001b[0mcallbacks\u001b[0m\u001b[1;33m:\u001b[0m\u001b[1;33m\u001b[0m\u001b[1;33m\u001b[0m\u001b[0m\n\u001b[1;32m--> 302\u001b[1;33m       \u001b[0mcallback\u001b[0m\u001b[1;33m.\u001b[0m\u001b[0mon_epoch_end\u001b[0m\u001b[1;33m(\u001b[0m\u001b[0mepoch\u001b[0m\u001b[1;33m,\u001b[0m \u001b[0mlogs\u001b[0m\u001b[1;33m)\u001b[0m\u001b[1;33m\u001b[0m\u001b[1;33m\u001b[0m\u001b[0m\n\u001b[0m\u001b[0;32m    303\u001b[0m \u001b[1;33m\u001b[0m\u001b[0m\n\u001b[0;32m    304\u001b[0m   \u001b[1;32mdef\u001b[0m \u001b[0mon_train_batch_begin\u001b[0m\u001b[1;33m(\u001b[0m\u001b[0mself\u001b[0m\u001b[1;33m,\u001b[0m \u001b[0mbatch\u001b[0m\u001b[1;33m,\u001b[0m \u001b[0mlogs\u001b[0m\u001b[1;33m=\u001b[0m\u001b[1;32mNone\u001b[0m\u001b[1;33m)\u001b[0m\u001b[1;33m:\u001b[0m\u001b[1;33m\u001b[0m\u001b[1;33m\u001b[0m\u001b[0m\n",
      "\u001b[1;32m~\\Anaconda3\\lib\\site-packages\\tensorflow_core\\python\\keras\\callbacks.py\u001b[0m in \u001b[0;36mon_epoch_end\u001b[1;34m(self, epoch, logs)\u001b[0m\n\u001b[0;32m    990\u001b[0m           \u001b[0mself\u001b[0m\u001b[1;33m.\u001b[0m\u001b[0m_save_model\u001b[0m\u001b[1;33m(\u001b[0m\u001b[0mepoch\u001b[0m\u001b[1;33m=\u001b[0m\u001b[0mepoch\u001b[0m\u001b[1;33m,\u001b[0m \u001b[0mlogs\u001b[0m\u001b[1;33m=\u001b[0m\u001b[0mlogs\u001b[0m\u001b[1;33m)\u001b[0m\u001b[1;33m\u001b[0m\u001b[1;33m\u001b[0m\u001b[0m\n\u001b[0;32m    991\u001b[0m       \u001b[1;32melse\u001b[0m\u001b[1;33m:\u001b[0m\u001b[1;33m\u001b[0m\u001b[1;33m\u001b[0m\u001b[0m\n\u001b[1;32m--> 992\u001b[1;33m         \u001b[0mself\u001b[0m\u001b[1;33m.\u001b[0m\u001b[0m_save_model\u001b[0m\u001b[1;33m(\u001b[0m\u001b[0mepoch\u001b[0m\u001b[1;33m=\u001b[0m\u001b[0mepoch\u001b[0m\u001b[1;33m,\u001b[0m \u001b[0mlogs\u001b[0m\u001b[1;33m=\u001b[0m\u001b[0mlogs\u001b[0m\u001b[1;33m)\u001b[0m\u001b[1;33m\u001b[0m\u001b[1;33m\u001b[0m\u001b[0m\n\u001b[0m\u001b[0;32m    993\u001b[0m     \u001b[1;32mif\u001b[0m \u001b[0mself\u001b[0m\u001b[1;33m.\u001b[0m\u001b[0mmodel\u001b[0m\u001b[1;33m.\u001b[0m\u001b[0m_in_multi_worker_mode\u001b[0m\u001b[1;33m(\u001b[0m\u001b[1;33m)\u001b[0m\u001b[1;33m:\u001b[0m\u001b[1;33m\u001b[0m\u001b[1;33m\u001b[0m\u001b[0m\n\u001b[0;32m    994\u001b[0m       \u001b[1;31m# For multi-worker training, back up the weights and current training\u001b[0m\u001b[1;33m\u001b[0m\u001b[1;33m\u001b[0m\u001b[1;33m\u001b[0m\u001b[0m\n",
      "\u001b[1;32m~\\Anaconda3\\lib\\site-packages\\tensorflow_core\\python\\keras\\callbacks.py\u001b[0m in \u001b[0;36m_save_model\u001b[1;34m(self, epoch, logs)\u001b[0m\n\u001b[0;32m   1009\u001b[0m                   int) or self.epochs_since_last_save >= self.period:\n\u001b[0;32m   1010\u001b[0m       \u001b[0mself\u001b[0m\u001b[1;33m.\u001b[0m\u001b[0mepochs_since_last_save\u001b[0m \u001b[1;33m=\u001b[0m \u001b[1;36m0\u001b[0m\u001b[1;33m\u001b[0m\u001b[1;33m\u001b[0m\u001b[0m\n\u001b[1;32m-> 1011\u001b[1;33m       \u001b[0mfilepath\u001b[0m \u001b[1;33m=\u001b[0m \u001b[0mself\u001b[0m\u001b[1;33m.\u001b[0m\u001b[0m_get_file_path\u001b[0m\u001b[1;33m(\u001b[0m\u001b[0mepoch\u001b[0m\u001b[1;33m,\u001b[0m \u001b[0mlogs\u001b[0m\u001b[1;33m)\u001b[0m\u001b[1;33m\u001b[0m\u001b[1;33m\u001b[0m\u001b[0m\n\u001b[0m\u001b[0;32m   1012\u001b[0m \u001b[1;33m\u001b[0m\u001b[0m\n\u001b[0;32m   1013\u001b[0m       \u001b[1;32mtry\u001b[0m\u001b[1;33m:\u001b[0m\u001b[1;33m\u001b[0m\u001b[1;33m\u001b[0m\u001b[0m\n",
      "\u001b[1;32m~\\Anaconda3\\lib\\site-packages\\tensorflow_core\\python\\keras\\callbacks.py\u001b[0m in \u001b[0;36m_get_file_path\u001b[1;34m(self, epoch, logs)\u001b[0m\n\u001b[0;32m   1053\u001b[0m     if not self.model._in_multi_worker_mode(\n\u001b[0;32m   1054\u001b[0m     ) or multi_worker_util.should_save_checkpoint():\n\u001b[1;32m-> 1055\u001b[1;33m       \u001b[1;32mreturn\u001b[0m \u001b[0mself\u001b[0m\u001b[1;33m.\u001b[0m\u001b[0mfilepath\u001b[0m\u001b[1;33m.\u001b[0m\u001b[0mformat\u001b[0m\u001b[1;33m(\u001b[0m\u001b[0mepoch\u001b[0m\u001b[1;33m=\u001b[0m\u001b[0mepoch\u001b[0m \u001b[1;33m+\u001b[0m \u001b[1;36m1\u001b[0m\u001b[1;33m,\u001b[0m \u001b[1;33m**\u001b[0m\u001b[0mlogs\u001b[0m\u001b[1;33m)\u001b[0m\u001b[1;33m\u001b[0m\u001b[1;33m\u001b[0m\u001b[0m\n\u001b[0m\u001b[0;32m   1056\u001b[0m     \u001b[1;32melse\u001b[0m\u001b[1;33m:\u001b[0m\u001b[1;33m\u001b[0m\u001b[1;33m\u001b[0m\u001b[0m\n\u001b[0;32m   1057\u001b[0m       \u001b[1;31m# If this is multi-worker training, and this worker should not\u001b[0m\u001b[1;33m\u001b[0m\u001b[1;33m\u001b[0m\u001b[1;33m\u001b[0m\u001b[0m\n",
      "\u001b[1;31mKeyError\u001b[0m: 'val_accuracy'"
     ]
    }
   ],
   "source": [
    "history_mini_Xception = model.fit(train_generator, steps_per_epoch=nb_train_samples // batch_size, \n",
    "                                 epochs=num_epochs, validation_data=validation_generator, \n",
    "                                 validation_steps=nb_validation_samples // batch_size, verbose=1,\n",
    "                                 callbacks=callbacks)"
   ]
  },
  {
   "cell_type": "code",
   "execution_count": null,
   "metadata": {
    "Collapsed": "false"
   },
   "outputs": [],
   "source": [
    "fig = plot_loss_acc(history_mini_Xception)\n",
    "fig.show()"
   ]
  },
  {
   "cell_type": "markdown",
   "metadata": {
    "Collapsed": "true"
   },
   "source": [
    "## MODEL: Basic CNN"
   ]
  },
  {
   "cell_type": "code",
   "execution_count": null,
   "metadata": {
    "Collapsed": "false"
   },
   "outputs": [],
   "source": [
    "# raw_df = pd.read_csv('data/fer2013_and_plus.csv')\n",
    "# pixels = raw_df['pixels'].tolist()\n",
    "# faces = []\n",
    "# for pixel_sequence in pixels:\n",
    "#     face = [int(pixel) for pixel in pixel_sequence.split(' ')]\n",
    "#     face = np.asarray(face).reshape(image_width, image_height)\n",
    "#     face = cv2.resize(face.astype('uint8'), image_size)\n",
    "#     faces.append(face.astype('float32'))\n",
    "# faces = np.asarray(faces)\n",
    "# faces = np.expand_dims(faces, -1)\n",
    "# emotions = pd.get_dummies(raw_df[dataset_name]).as_matrix()\n",
    "\n",
    "# faces = preprocess_input(faces)\n",
    "# num_samples, num_classes = emotions.shape\n",
    "# train_data, val_data = split_data(faces, emotions, validation_split=0.2)\n",
    "# train_faces, train_emotions = train_data"
   ]
  },
  {
   "cell_type": "markdown",
   "metadata": {
    "Collapsed": "false"
   },
   "source": [
    "## MODEL: ResNet50 Finetuned"
   ]
  },
  {
   "cell_type": "code",
   "execution_count": 23,
   "metadata": {
    "Collapsed": "false"
   },
   "outputs": [
    {
     "name": "stdout",
     "output_type": "stream",
     "text": [
      "Collecting tensorflow_hub>=0.6.0\n",
      "  Downloading https://files.pythonhosted.org/packages/fb/9d/d5772f94e31431cdb56a8bb2c34d8839bb7d7621f2a5959f4ef43207d7ac/tensorflow_hub-0.8.0-py2.py3-none-any.whl (101kB)\n",
      "Requirement already satisfied: six>=1.12.0 in c:\\users\\s\\anaconda3\\lib\\site-packages (from tensorflow_hub>=0.6.0) (1.12.0)\n",
      "Requirement already satisfied: numpy>=1.12.0 in c:\\users\\s\\anaconda3\\lib\\site-packages (from tensorflow_hub>=0.6.0) (1.16.5)\n",
      "Requirement already satisfied: protobuf>=3.8.0 in c:\\users\\s\\anaconda3\\lib\\site-packages (from tensorflow_hub>=0.6.0) (3.11.3)\n",
      "Requirement already satisfied: setuptools in c:\\users\\s\\anaconda3\\lib\\site-packages (from protobuf>=3.8.0->tensorflow_hub>=0.6.0) (41.4.0)\n",
      "Installing collected packages: tensorflow-hub\n",
      "Successfully installed tensorflow-hub-0.8.0\n"
     ]
    }
   ],
   "source": [
    "!pip install \"tensorflow_hub>=0.6.0\""
   ]
  },
  {
   "cell_type": "code",
   "execution_count": 10,
   "metadata": {
    "Collapsed": "false"
   },
   "outputs": [
    {
     "name": "stdout",
     "output_type": "stream",
     "text": [
      "TF version: 2.1.0\n",
      "WARNING:tensorflow:From <ipython-input-10-1ac7f3e629d5>:5: is_gpu_available (from tensorflow.python.framework.test_util) is deprecated and will be removed in a future version.\n",
      "Instructions for updating:\n",
      "Use `tf.config.list_physical_devices('GPU')` instead.\n",
      "GPU is available\n"
     ]
    }
   ],
   "source": [
    "#import tensorflow_hub as hub\n",
    "\n",
    "print(\"TF version:\", tf.__version__)\n",
    "#print(\"Hub version:\", hub.__version__)\n",
    "print(\"GPU is\", \"available\" if tf.test.is_gpu_available() else \"NOT AVAILABLE\")"
   ]
  },
  {
   "cell_type": "code",
   "execution_count": 28,
   "metadata": {
    "Collapsed": "false"
   },
   "outputs": [
    {
     "name": "stdout",
     "output_type": "stream",
     "text": [
      "Using https://tfhub.dev/google/imagenet/resnet_v2_50/feature_vector/4 with input size (64, 64)\n"
     ]
    }
   ],
   "source": [
    "# pixels = 64\n",
    "# module_url = \"https://tfhub.dev/google/imagenet/resnet_v2_50/feature_vector/4\"\n",
    "\n",
    "# MODULE_HANDLE =\"https://tfhub.dev/google/imagenet/resnet_v2_50/feature_vector/4\"\n",
    "# IMAGE_SIZE = (pixels, pixels)\n",
    "# print(\"Using {} with input size {}\".format(MODULE_HANDLE, IMAGE_SIZE))\n",
    "\n",
    "# BATCH_SIZE = 32 #@param {type:\"integer\"}"
   ]
  },
  {
   "cell_type": "code",
   "execution_count": 30,
   "metadata": {
    "Collapsed": "false"
   },
   "outputs": [],
   "source": [
    "# do_fine_tuning = False"
   ]
  },
  {
   "cell_type": "code",
   "execution_count": 31,
   "metadata": {
    "Collapsed": "false"
   },
   "outputs": [
    {
     "name": "stdout",
     "output_type": "stream",
     "text": [
      "Building model with https://tfhub.dev/google/imagenet/resnet_v2_50/feature_vector/4\n",
      "Model: \"sequential_1\"\n",
      "_________________________________________________________________\n",
      "Layer (type)                 Output Shape              Param #   \n",
      "=================================================================\n",
      "keras_layer (KerasLayer)     (None, 2048)              23564800  \n",
      "_________________________________________________________________\n",
      "dropout_4 (Dropout)          (None, 2048)              0         \n",
      "_________________________________________________________________\n",
      "dense (Dense)                (None, 2)                 4098      \n",
      "=================================================================\n",
      "Total params: 23,568,898\n",
      "Trainable params: 4,098\n",
      "Non-trainable params: 23,564,800\n",
      "_________________________________________________________________\n"
     ]
    }
   ],
   "source": [
    "# print(\"Building model with\", MODULE_HANDLE)\n",
    "# model = tf.keras.Sequential([\n",
    "#     # Explicitly define the input shape so the model can be properly\n",
    "#     # loaded by the TFLiteConverter\n",
    "#     tf.keras.layers.InputLayer(input_shape=IMAGE_SIZE + (3,)),\n",
    "#     hub.KerasLayer(MODULE_HANDLE, trainable=do_fine_tuning),\n",
    "#     tf.keras.layers.Dropout(rate=0.2),\n",
    "#     tf.keras.layers.Dense(train_generator.num_classes,\n",
    "#                           kernel_regularizer=tf.keras.regularizers.l2(0.0001))\n",
    "# ])\n",
    "# model.build((None,)+IMAGE_SIZE+(3,))\n",
    "# model.summary()"
   ]
  },
  {
   "cell_type": "code",
   "execution_count": 32,
   "metadata": {
    "Collapsed": "false"
   },
   "outputs": [
    {
     "data": {
      "text/plain": [
       "<keras_preprocessing.image.directory_iterator.DirectoryIterator at 0x2ce7f8288c8>"
      ]
     },
     "execution_count": 32,
     "metadata": {},
     "output_type": "execute_result"
    }
   ],
   "source": [
    "# https://github.com/tensorflow/hub/blob/master/examples/colab/tf2_image_retraining.ipynb\n",
    "# https://www.tensorflow.org/hub/tf2_saved_model#fine-tuning\n",
    "# https://github.com/imdeepmind/processed-imdb-wiki-dataset/blob/master/gender.py\n"
   ]
  },
  {
   "cell_type": "code",
   "execution_count": 11,
   "metadata": {
    "Collapsed": "false"
   },
   "outputs": [
    {
     "name": "stdout",
     "output_type": "stream",
     "text": [
      "Model loaded.\n",
      "175\n"
     ]
    }
   ],
   "source": [
    "top_model_weights_path = '../bottleneck_fc_model.h5'\n",
    "\n",
    "from tensorflow.keras.applications.resnet50 import ResNet50\n",
    "from tensorflow.keras.preprocessing import image\n",
    "from tensorflow.keras.applications.resnet50 import preprocess_input, decode_predictions\n",
    "import numpy as np\n",
    "from tensorflow.keras import optimizers\n",
    "from tensorflow.keras.layers import Dropout, Flatten, Dense\n",
    "\n",
    "\n",
    "# build the resnet50 network\n",
    "base_model = ResNet50(weights='imagenet', include_top=False, input_shape=(64,64,3))\n",
    "print('Model loaded.')\n",
    "\n",
    "# build a classifier model to put on top of the convolutional model\n",
    "top_model = Sequential()\n",
    "top_model.add(Flatten(input_shape=base_model.output_shape[1:]))\n",
    "top_model.add(Dense(512, activation='relu'))\n",
    "top_model.add(Dropout(0.2))\n",
    "top_model.add(Dense(256, activation='relu'))\n",
    "top_model.add(Dropout(0.2))\n",
    "top_model.add(Dense(128, activation='relu'))\n",
    "top_model.add(Dropout(0.2))\n",
    "top_model.add(Dense(1, activation='sigmoid'))\n",
    "\n",
    "print(len(base_model.layers))\n",
    "for layer in base_model.layers[:175]:\n",
    "    layer.trainable = False\n",
    "for layer in base_model.layers[175:]:\n",
    "    layer.trainable = True\n",
    "\n",
    "# note that it is necessary to start with a fully-trained\n",
    "# classifier, including the top classifier,\n",
    "# in order to successfully do fine-tuning\n",
    "#top_model.load_weights(top_model_weights_path)"
   ]
  },
  {
   "cell_type": "code",
   "execution_count": null,
   "metadata": {
    "Collapsed": "false"
   },
   "outputs": [],
   "source": [
    "# resnet summary\n",
    "# base_model.summary()\n",
    "# i=0\n",
    "# for layer in base_model.layers:\n",
    "#     layer.trainable = False\n",
    "#     i = i+1\n",
    "#     print(i,layer.name)"
   ]
  },
  {
   "cell_type": "code",
   "execution_count": 12,
   "metadata": {
    "Collapsed": "false"
   },
   "outputs": [],
   "source": [
    "\n",
    "# other models use this\n",
    "# model.compile(optimizer='adam', loss='categorical_crossentropy',\n",
    "#               metrics=['accuracy'])\n",
    "model = Sequential()\n",
    "model.add(base_model)\n",
    "# add the model on top of the convolutional base\n",
    "model.add(top_model)\n",
    "\n",
    "\n",
    "# set the first 170 layers (up to the last conv block)\n",
    "# to non-trainable (weights will not be updated)\n",
    "\n",
    "\n",
    "    \n",
    "# compile the model with a SGD/momentum optimizer\n",
    "# and a very slow learning rate.\n",
    "model.compile(loss='binary_crossentropy',\n",
    "              optimizer=optimizers.SGD(lr=5e-4, momentum=0.9),\n",
    "              metrics=['accuracy'])"
   ]
  },
  {
   "cell_type": "code",
   "execution_count": null,
   "metadata": {
    "Collapsed": "false"
   },
   "outputs": [],
   "source": [
    "#callbacks\n",
    "log_file_path = 'logs/' + dataset_name + '_training.log'\n",
    "csv_logger = CSVLogger(log_file_path, append=False)\n",
    "\n",
    "early_stop = EarlyStopping('val_loss', patience=patience)\n",
    "\n",
    "reduce_lr = ReduceLROnPlateau('val_loss', factor=0.1, patience=int(patience/4), verbose=1)\n",
    "\n",
    "trained_models_path = 'model_weights_gender_resnet/' + dataset_name + '_resnet50_finetune'\n",
    "model_names = trained_models_path + '.{epoch:02d}-{val_accuracy:.2f}.hdf5'\n",
    "model_checkpoint = ModelCheckpoint(model_names, monitor='val_accuracy', verbose=1, save_best_only=True)\n",
    "\n",
    "callbacks = [model_checkpoint, csv_logger, early_stop, reduce_lr]"
   ]
  },
  {
   "cell_type": "code",
   "execution_count": null,
   "metadata": {
    "Collapsed": "false"
   },
   "outputs": [],
   "source": [
    "# model.trainable=True\n",
    "\n",
    "len(model.trainable_weights)\n"
   ]
  },
  {
   "cell_type": "code",
   "execution_count": 87,
   "metadata": {
    "Collapsed": "false"
   },
   "outputs": [
    {
     "name": "stdout",
     "output_type": "stream",
     "text": [
      "WARNING:tensorflow:sample_weight modes were coerced from\n",
      "  ...\n",
      "    to  \n",
      "  ['...']\n",
      "WARNING:tensorflow:sample_weight modes were coerced from\n",
      "  ...\n",
      "    to  \n",
      "  ['...']\n",
      "Train for 2673 steps, validate for 839 steps\n",
      "Epoch 1/100\n",
      "2672/2673 [============================>.] - ETA: 0s - loss: 0.5771 - accuracy: 0.6974\n",
      "Epoch 00001: val_accuracy improved from -inf to 0.27199, saving model to model_weights_gender_resnet/imdb_resnet50_finetune.01-0.27.hdf5\n",
      "2673/2673 [==============================] - 602s 225ms/step - loss: 0.5771 - accuracy: 0.6974 - val_loss: 0.7091 - val_accuracy: 0.2720\n",
      "Epoch 2/100\n",
      "2672/2673 [============================>.] - ETA: 0s - loss: 0.5241 - accuracy: 0.7383\n",
      "Epoch 00002: val_accuracy did not improve from 0.27199\n",
      "2673/2673 [==============================] - 602s 225ms/step - loss: 0.5241 - accuracy: 0.7383 - val_loss: 0.7147 - val_accuracy: 0.2518\n",
      "Epoch 3/100\n",
      "2672/2673 [============================>.] - ETA: 0s - loss: 0.5104 - accuracy: 0.7486\n",
      "Epoch 00003: val_accuracy did not improve from 0.27199\n",
      "2673/2673 [==============================] - 601s 225ms/step - loss: 0.5104 - accuracy: 0.7486 - val_loss: 0.7174 - val_accuracy: 0.2451\n",
      "Epoch 4/100\n",
      "2672/2673 [============================>.] - ETA: 0s - loss: 0.5012 - accuracy: 0.7557\n",
      "Epoch 00004: val_accuracy did not improve from 0.27199\n",
      "2673/2673 [==============================] - 599s 224ms/step - loss: 0.5012 - accuracy: 0.7557 - val_loss: 0.8189 - val_accuracy: 0.1778\n",
      "Epoch 5/100\n",
      "2031/2673 [=====================>........] - ETA: 1:51 - loss: 0.4972 - accuracy: 0.7569"
     ]
    },
    {
     "ename": "KeyError",
     "evalue": "'val_accuracy'",
     "output_type": "error",
     "traceback": [
      "\u001b[1;31m---------------------------------------------------------------------------\u001b[0m",
      "\u001b[1;31mKeyboardInterrupt\u001b[0m                         Traceback (most recent call last)",
      "\u001b[1;32m~\\Anaconda3\\lib\\site-packages\\tensorflow_core\\python\\keras\\engine\\training_v2.py\u001b[0m in \u001b[0;36mon_epoch\u001b[1;34m(self, epoch, mode)\u001b[0m\n\u001b[0;32m    766\u001b[0m     \u001b[1;32mtry\u001b[0m\u001b[1;33m:\u001b[0m\u001b[1;33m\u001b[0m\u001b[1;33m\u001b[0m\u001b[0m\n\u001b[1;32m--> 767\u001b[1;33m       \u001b[1;32myield\u001b[0m \u001b[0mepoch_logs\u001b[0m\u001b[1;33m\u001b[0m\u001b[1;33m\u001b[0m\u001b[0m\n\u001b[0m\u001b[0;32m    768\u001b[0m     \u001b[1;32mfinally\u001b[0m\u001b[1;33m:\u001b[0m\u001b[1;33m\u001b[0m\u001b[1;33m\u001b[0m\u001b[0m\n",
      "\u001b[1;32m~\\Anaconda3\\lib\\site-packages\\tensorflow_core\\python\\keras\\engine\\training_v2.py\u001b[0m in \u001b[0;36mfit\u001b[1;34m(self, model, x, y, batch_size, epochs, verbose, callbacks, validation_split, validation_data, shuffle, class_weight, sample_weight, initial_epoch, steps_per_epoch, validation_steps, validation_freq, max_queue_size, workers, use_multiprocessing, **kwargs)\u001b[0m\n\u001b[0;32m    341\u001b[0m                 \u001b[0mtraining_context\u001b[0m\u001b[1;33m=\u001b[0m\u001b[0mtraining_context\u001b[0m\u001b[1;33m,\u001b[0m\u001b[1;33m\u001b[0m\u001b[1;33m\u001b[0m\u001b[0m\n\u001b[1;32m--> 342\u001b[1;33m                 total_epochs=epochs)\n\u001b[0m\u001b[0;32m    343\u001b[0m             \u001b[0mcbks\u001b[0m\u001b[1;33m.\u001b[0m\u001b[0mmake_logs\u001b[0m\u001b[1;33m(\u001b[0m\u001b[0mmodel\u001b[0m\u001b[1;33m,\u001b[0m \u001b[0mepoch_logs\u001b[0m\u001b[1;33m,\u001b[0m \u001b[0mtraining_result\u001b[0m\u001b[1;33m,\u001b[0m \u001b[0mModeKeys\u001b[0m\u001b[1;33m.\u001b[0m\u001b[0mTRAIN\u001b[0m\u001b[1;33m)\u001b[0m\u001b[1;33m\u001b[0m\u001b[1;33m\u001b[0m\u001b[0m\n",
      "\u001b[1;32m~\\Anaconda3\\lib\\site-packages\\tensorflow_core\\python\\keras\\engine\\training_v2.py\u001b[0m in \u001b[0;36mrun_one_epoch\u001b[1;34m(model, iterator, execution_function, dataset_size, batch_size, strategy, steps_per_epoch, num_samples, mode, training_context, total_epochs)\u001b[0m\n\u001b[0;32m    127\u001b[0m       \u001b[1;32mtry\u001b[0m\u001b[1;33m:\u001b[0m\u001b[1;33m\u001b[0m\u001b[1;33m\u001b[0m\u001b[0m\n\u001b[1;32m--> 128\u001b[1;33m         \u001b[0mbatch_outs\u001b[0m \u001b[1;33m=\u001b[0m \u001b[0mexecution_function\u001b[0m\u001b[1;33m(\u001b[0m\u001b[0miterator\u001b[0m\u001b[1;33m)\u001b[0m\u001b[1;33m\u001b[0m\u001b[1;33m\u001b[0m\u001b[0m\n\u001b[0m\u001b[0;32m    129\u001b[0m       \u001b[1;32mexcept\u001b[0m \u001b[1;33m(\u001b[0m\u001b[0mStopIteration\u001b[0m\u001b[1;33m,\u001b[0m \u001b[0merrors\u001b[0m\u001b[1;33m.\u001b[0m\u001b[0mOutOfRangeError\u001b[0m\u001b[1;33m)\u001b[0m\u001b[1;33m:\u001b[0m\u001b[1;33m\u001b[0m\u001b[1;33m\u001b[0m\u001b[0m\n",
      "\u001b[1;32m~\\Anaconda3\\lib\\site-packages\\tensorflow_core\\python\\keras\\engine\\training_v2_utils.py\u001b[0m in \u001b[0;36mexecution_function\u001b[1;34m(input_fn)\u001b[0m\n\u001b[0;32m     97\u001b[0m     return nest.map_structure(_non_none_constant_value,\n\u001b[1;32m---> 98\u001b[1;33m                               distributed_function(input_fn))\n\u001b[0m\u001b[0;32m     99\u001b[0m \u001b[1;33m\u001b[0m\u001b[0m\n",
      "\u001b[1;32m~\\Anaconda3\\lib\\site-packages\\tensorflow_core\\python\\eager\\def_function.py\u001b[0m in \u001b[0;36m__call__\u001b[1;34m(self, *args, **kwds)\u001b[0m\n\u001b[0;32m    567\u001b[0m     \u001b[1;32melse\u001b[0m\u001b[1;33m:\u001b[0m\u001b[1;33m\u001b[0m\u001b[1;33m\u001b[0m\u001b[0m\n\u001b[1;32m--> 568\u001b[1;33m       \u001b[0mresult\u001b[0m \u001b[1;33m=\u001b[0m \u001b[0mself\u001b[0m\u001b[1;33m.\u001b[0m\u001b[0m_call\u001b[0m\u001b[1;33m(\u001b[0m\u001b[1;33m*\u001b[0m\u001b[0margs\u001b[0m\u001b[1;33m,\u001b[0m \u001b[1;33m**\u001b[0m\u001b[0mkwds\u001b[0m\u001b[1;33m)\u001b[0m\u001b[1;33m\u001b[0m\u001b[1;33m\u001b[0m\u001b[0m\n\u001b[0m\u001b[0;32m    569\u001b[0m \u001b[1;33m\u001b[0m\u001b[0m\n",
      "\u001b[1;32m~\\Anaconda3\\lib\\site-packages\\tensorflow_core\\python\\eager\\def_function.py\u001b[0m in \u001b[0;36m_call\u001b[1;34m(self, *args, **kwds)\u001b[0m\n\u001b[0;32m    598\u001b[0m       \u001b[1;31m# defunned version which is guaranteed to never create variables.\u001b[0m\u001b[1;33m\u001b[0m\u001b[1;33m\u001b[0m\u001b[1;33m\u001b[0m\u001b[0m\n\u001b[1;32m--> 599\u001b[1;33m       \u001b[1;32mreturn\u001b[0m \u001b[0mself\u001b[0m\u001b[1;33m.\u001b[0m\u001b[0m_stateless_fn\u001b[0m\u001b[1;33m(\u001b[0m\u001b[1;33m*\u001b[0m\u001b[0margs\u001b[0m\u001b[1;33m,\u001b[0m \u001b[1;33m**\u001b[0m\u001b[0mkwds\u001b[0m\u001b[1;33m)\u001b[0m  \u001b[1;31m# pylint: disable=not-callable\u001b[0m\u001b[1;33m\u001b[0m\u001b[1;33m\u001b[0m\u001b[0m\n\u001b[0m\u001b[0;32m    600\u001b[0m     \u001b[1;32melif\u001b[0m \u001b[0mself\u001b[0m\u001b[1;33m.\u001b[0m\u001b[0m_stateful_fn\u001b[0m \u001b[1;32mis\u001b[0m \u001b[1;32mnot\u001b[0m \u001b[1;32mNone\u001b[0m\u001b[1;33m:\u001b[0m\u001b[1;33m\u001b[0m\u001b[1;33m\u001b[0m\u001b[0m\n",
      "\u001b[1;32m~\\Anaconda3\\lib\\site-packages\\tensorflow_core\\python\\eager\\function.py\u001b[0m in \u001b[0;36m__call__\u001b[1;34m(self, *args, **kwargs)\u001b[0m\n\u001b[0;32m   2362\u001b[0m       \u001b[0mgraph_function\u001b[0m\u001b[1;33m,\u001b[0m \u001b[0margs\u001b[0m\u001b[1;33m,\u001b[0m \u001b[0mkwargs\u001b[0m \u001b[1;33m=\u001b[0m \u001b[0mself\u001b[0m\u001b[1;33m.\u001b[0m\u001b[0m_maybe_define_function\u001b[0m\u001b[1;33m(\u001b[0m\u001b[0margs\u001b[0m\u001b[1;33m,\u001b[0m \u001b[0mkwargs\u001b[0m\u001b[1;33m)\u001b[0m\u001b[1;33m\u001b[0m\u001b[1;33m\u001b[0m\u001b[0m\n\u001b[1;32m-> 2363\u001b[1;33m     \u001b[1;32mreturn\u001b[0m \u001b[0mgraph_function\u001b[0m\u001b[1;33m.\u001b[0m\u001b[0m_filtered_call\u001b[0m\u001b[1;33m(\u001b[0m\u001b[0margs\u001b[0m\u001b[1;33m,\u001b[0m \u001b[0mkwargs\u001b[0m\u001b[1;33m)\u001b[0m  \u001b[1;31m# pylint: disable=protected-access\u001b[0m\u001b[1;33m\u001b[0m\u001b[1;33m\u001b[0m\u001b[0m\n\u001b[0m\u001b[0;32m   2364\u001b[0m \u001b[1;33m\u001b[0m\u001b[0m\n",
      "\u001b[1;32m~\\Anaconda3\\lib\\site-packages\\tensorflow_core\\python\\eager\\function.py\u001b[0m in \u001b[0;36m_filtered_call\u001b[1;34m(self, args, kwargs)\u001b[0m\n\u001b[0;32m   1610\u001b[0m                            resource_variable_ops.BaseResourceVariable))),\n\u001b[1;32m-> 1611\u001b[1;33m         self.captured_inputs)\n\u001b[0m\u001b[0;32m   1612\u001b[0m \u001b[1;33m\u001b[0m\u001b[0m\n",
      "\u001b[1;32m~\\Anaconda3\\lib\\site-packages\\tensorflow_core\\python\\eager\\function.py\u001b[0m in \u001b[0;36m_call_flat\u001b[1;34m(self, args, captured_inputs, cancellation_manager)\u001b[0m\n\u001b[0;32m   1691\u001b[0m       return self._build_call_outputs(self._inference_function.call(\n\u001b[1;32m-> 1692\u001b[1;33m           ctx, args, cancellation_manager=cancellation_manager))\n\u001b[0m\u001b[0;32m   1693\u001b[0m     forward_backward = self._select_forward_and_backward_functions(\n",
      "\u001b[1;32m~\\Anaconda3\\lib\\site-packages\\tensorflow_core\\python\\eager\\function.py\u001b[0m in \u001b[0;36mcall\u001b[1;34m(self, ctx, args, cancellation_manager)\u001b[0m\n\u001b[0;32m    544\u001b[0m               \u001b[0mattrs\u001b[0m\u001b[1;33m=\u001b[0m\u001b[1;33m(\u001b[0m\u001b[1;34m\"executor_type\"\u001b[0m\u001b[1;33m,\u001b[0m \u001b[0mexecutor_type\u001b[0m\u001b[1;33m,\u001b[0m \u001b[1;34m\"config_proto\"\u001b[0m\u001b[1;33m,\u001b[0m \u001b[0mconfig\u001b[0m\u001b[1;33m)\u001b[0m\u001b[1;33m,\u001b[0m\u001b[1;33m\u001b[0m\u001b[1;33m\u001b[0m\u001b[0m\n\u001b[1;32m--> 545\u001b[1;33m               ctx=ctx)\n\u001b[0m\u001b[0;32m    546\u001b[0m         \u001b[1;32melse\u001b[0m\u001b[1;33m:\u001b[0m\u001b[1;33m\u001b[0m\u001b[1;33m\u001b[0m\u001b[0m\n",
      "\u001b[1;32m~\\Anaconda3\\lib\\site-packages\\tensorflow_core\\python\\eager\\execute.py\u001b[0m in \u001b[0;36mquick_execute\u001b[1;34m(op_name, num_outputs, inputs, attrs, ctx, name)\u001b[0m\n\u001b[0;32m     60\u001b[0m                                                \u001b[0mop_name\u001b[0m\u001b[1;33m,\u001b[0m \u001b[0minputs\u001b[0m\u001b[1;33m,\u001b[0m \u001b[0mattrs\u001b[0m\u001b[1;33m,\u001b[0m\u001b[1;33m\u001b[0m\u001b[1;33m\u001b[0m\u001b[0m\n\u001b[1;32m---> 61\u001b[1;33m                                                num_outputs)\n\u001b[0m\u001b[0;32m     62\u001b[0m   \u001b[1;32mexcept\u001b[0m \u001b[0mcore\u001b[0m\u001b[1;33m.\u001b[0m\u001b[0m_NotOkStatusException\u001b[0m \u001b[1;32mas\u001b[0m \u001b[0me\u001b[0m\u001b[1;33m:\u001b[0m\u001b[1;33m\u001b[0m\u001b[1;33m\u001b[0m\u001b[0m\n",
      "\u001b[1;31mKeyboardInterrupt\u001b[0m: ",
      "\nDuring handling of the above exception, another exception occurred:\n",
      "\u001b[1;31mKeyError\u001b[0m                                  Traceback (most recent call last)",
      "\u001b[1;32m<ipython-input-87-7e8321f6388e>\u001b[0m in \u001b[0;36m<module>\u001b[1;34m\u001b[0m\n\u001b[0;32m      3\u001b[0m                                  \u001b[0mepochs\u001b[0m\u001b[1;33m=\u001b[0m\u001b[0mnum_epochs\u001b[0m\u001b[1;33m,\u001b[0m \u001b[0mvalidation_data\u001b[0m\u001b[1;33m=\u001b[0m\u001b[0mvalidation_generator\u001b[0m\u001b[1;33m,\u001b[0m\u001b[1;33m\u001b[0m\u001b[1;33m\u001b[0m\u001b[0m\n\u001b[0;32m      4\u001b[0m                                  \u001b[0mvalidation_steps\u001b[0m\u001b[1;33m=\u001b[0m\u001b[0mnb_validation_samples\u001b[0m \u001b[1;33m//\u001b[0m \u001b[0mbatch_size\u001b[0m\u001b[1;33m,\u001b[0m \u001b[0mverbose\u001b[0m\u001b[1;33m=\u001b[0m\u001b[1;36m1\u001b[0m\u001b[1;33m,\u001b[0m\u001b[1;33m\u001b[0m\u001b[1;33m\u001b[0m\u001b[0m\n\u001b[1;32m----> 5\u001b[1;33m                                  callbacks=callbacks)\n\u001b[0m",
      "\u001b[1;32m~\\Anaconda3\\lib\\site-packages\\tensorflow_core\\python\\keras\\engine\\training.py\u001b[0m in \u001b[0;36mfit\u001b[1;34m(self, x, y, batch_size, epochs, verbose, callbacks, validation_split, validation_data, shuffle, class_weight, sample_weight, initial_epoch, steps_per_epoch, validation_steps, validation_freq, max_queue_size, workers, use_multiprocessing, **kwargs)\u001b[0m\n\u001b[0;32m    817\u001b[0m         \u001b[0mmax_queue_size\u001b[0m\u001b[1;33m=\u001b[0m\u001b[0mmax_queue_size\u001b[0m\u001b[1;33m,\u001b[0m\u001b[1;33m\u001b[0m\u001b[1;33m\u001b[0m\u001b[0m\n\u001b[0;32m    818\u001b[0m         \u001b[0mworkers\u001b[0m\u001b[1;33m=\u001b[0m\u001b[0mworkers\u001b[0m\u001b[1;33m,\u001b[0m\u001b[1;33m\u001b[0m\u001b[1;33m\u001b[0m\u001b[0m\n\u001b[1;32m--> 819\u001b[1;33m         use_multiprocessing=use_multiprocessing)\n\u001b[0m\u001b[0;32m    820\u001b[0m \u001b[1;33m\u001b[0m\u001b[0m\n\u001b[0;32m    821\u001b[0m   def evaluate(self,\n",
      "\u001b[1;32m~\\Anaconda3\\lib\\site-packages\\tensorflow_core\\python\\keras\\engine\\training_v2.py\u001b[0m in \u001b[0;36mfit\u001b[1;34m(self, model, x, y, batch_size, epochs, verbose, callbacks, validation_split, validation_data, shuffle, class_weight, sample_weight, initial_epoch, steps_per_epoch, validation_steps, validation_freq, max_queue_size, workers, use_multiprocessing, **kwargs)\u001b[0m\n\u001b[0;32m    395\u001b[0m                       total_epochs=1)\n\u001b[0;32m    396\u001b[0m                   cbks.make_logs(model, epoch_logs, eval_result, ModeKeys.TEST,\n\u001b[1;32m--> 397\u001b[1;33m                                  prefix='val_')\n\u001b[0m\u001b[0;32m    398\u001b[0m \u001b[1;33m\u001b[0m\u001b[0m\n\u001b[0;32m    399\u001b[0m     \u001b[1;32mreturn\u001b[0m \u001b[0mmodel\u001b[0m\u001b[1;33m.\u001b[0m\u001b[0mhistory\u001b[0m\u001b[1;33m\u001b[0m\u001b[1;33m\u001b[0m\u001b[0m\n",
      "\u001b[1;32m~\\Anaconda3\\lib\\contextlib.py\u001b[0m in \u001b[0;36m__exit__\u001b[1;34m(self, type, value, traceback)\u001b[0m\n\u001b[0;32m    128\u001b[0m                 \u001b[0mvalue\u001b[0m \u001b[1;33m=\u001b[0m \u001b[0mtype\u001b[0m\u001b[1;33m(\u001b[0m\u001b[1;33m)\u001b[0m\u001b[1;33m\u001b[0m\u001b[1;33m\u001b[0m\u001b[0m\n\u001b[0;32m    129\u001b[0m             \u001b[1;32mtry\u001b[0m\u001b[1;33m:\u001b[0m\u001b[1;33m\u001b[0m\u001b[1;33m\u001b[0m\u001b[0m\n\u001b[1;32m--> 130\u001b[1;33m                 \u001b[0mself\u001b[0m\u001b[1;33m.\u001b[0m\u001b[0mgen\u001b[0m\u001b[1;33m.\u001b[0m\u001b[0mthrow\u001b[0m\u001b[1;33m(\u001b[0m\u001b[0mtype\u001b[0m\u001b[1;33m,\u001b[0m \u001b[0mvalue\u001b[0m\u001b[1;33m,\u001b[0m \u001b[0mtraceback\u001b[0m\u001b[1;33m)\u001b[0m\u001b[1;33m\u001b[0m\u001b[1;33m\u001b[0m\u001b[0m\n\u001b[0m\u001b[0;32m    131\u001b[0m             \u001b[1;32mexcept\u001b[0m \u001b[0mStopIteration\u001b[0m \u001b[1;32mas\u001b[0m \u001b[0mexc\u001b[0m\u001b[1;33m:\u001b[0m\u001b[1;33m\u001b[0m\u001b[1;33m\u001b[0m\u001b[0m\n\u001b[0;32m    132\u001b[0m                 \u001b[1;31m# Suppress StopIteration *unless* it's the same exception that\u001b[0m\u001b[1;33m\u001b[0m\u001b[1;33m\u001b[0m\u001b[1;33m\u001b[0m\u001b[0m\n",
      "\u001b[1;32m~\\Anaconda3\\lib\\site-packages\\tensorflow_core\\python\\keras\\engine\\training_v2.py\u001b[0m in \u001b[0;36mon_epoch\u001b[1;34m(self, epoch, mode)\u001b[0m\n\u001b[0;32m    769\u001b[0m       \u001b[1;32mif\u001b[0m \u001b[0mmode\u001b[0m \u001b[1;33m==\u001b[0m \u001b[0mModeKeys\u001b[0m\u001b[1;33m.\u001b[0m\u001b[0mTRAIN\u001b[0m\u001b[1;33m:\u001b[0m\u001b[1;33m\u001b[0m\u001b[1;33m\u001b[0m\u001b[0m\n\u001b[0;32m    770\u001b[0m         \u001b[1;31m# Epochs only apply to `fit`.\u001b[0m\u001b[1;33m\u001b[0m\u001b[1;33m\u001b[0m\u001b[1;33m\u001b[0m\u001b[0m\n\u001b[1;32m--> 771\u001b[1;33m         \u001b[0mself\u001b[0m\u001b[1;33m.\u001b[0m\u001b[0mcallbacks\u001b[0m\u001b[1;33m.\u001b[0m\u001b[0mon_epoch_end\u001b[0m\u001b[1;33m(\u001b[0m\u001b[0mepoch\u001b[0m\u001b[1;33m,\u001b[0m \u001b[0mepoch_logs\u001b[0m\u001b[1;33m)\u001b[0m\u001b[1;33m\u001b[0m\u001b[1;33m\u001b[0m\u001b[0m\n\u001b[0m\u001b[0;32m    772\u001b[0m       \u001b[0mself\u001b[0m\u001b[1;33m.\u001b[0m\u001b[0mprogbar\u001b[0m\u001b[1;33m.\u001b[0m\u001b[0mon_epoch_end\u001b[0m\u001b[1;33m(\u001b[0m\u001b[0mepoch\u001b[0m\u001b[1;33m,\u001b[0m \u001b[0mepoch_logs\u001b[0m\u001b[1;33m)\u001b[0m\u001b[1;33m\u001b[0m\u001b[1;33m\u001b[0m\u001b[0m\n\u001b[0;32m    773\u001b[0m \u001b[1;33m\u001b[0m\u001b[0m\n",
      "\u001b[1;32m~\\Anaconda3\\lib\\site-packages\\tensorflow_core\\python\\keras\\callbacks.py\u001b[0m in \u001b[0;36mon_epoch_end\u001b[1;34m(self, epoch, logs)\u001b[0m\n\u001b[0;32m    300\u001b[0m     \u001b[0mlogs\u001b[0m \u001b[1;33m=\u001b[0m \u001b[0mlogs\u001b[0m \u001b[1;32mor\u001b[0m \u001b[1;33m{\u001b[0m\u001b[1;33m}\u001b[0m\u001b[1;33m\u001b[0m\u001b[1;33m\u001b[0m\u001b[0m\n\u001b[0;32m    301\u001b[0m     \u001b[1;32mfor\u001b[0m \u001b[0mcallback\u001b[0m \u001b[1;32min\u001b[0m \u001b[0mself\u001b[0m\u001b[1;33m.\u001b[0m\u001b[0mcallbacks\u001b[0m\u001b[1;33m:\u001b[0m\u001b[1;33m\u001b[0m\u001b[1;33m\u001b[0m\u001b[0m\n\u001b[1;32m--> 302\u001b[1;33m       \u001b[0mcallback\u001b[0m\u001b[1;33m.\u001b[0m\u001b[0mon_epoch_end\u001b[0m\u001b[1;33m(\u001b[0m\u001b[0mepoch\u001b[0m\u001b[1;33m,\u001b[0m \u001b[0mlogs\u001b[0m\u001b[1;33m)\u001b[0m\u001b[1;33m\u001b[0m\u001b[1;33m\u001b[0m\u001b[0m\n\u001b[0m\u001b[0;32m    303\u001b[0m \u001b[1;33m\u001b[0m\u001b[0m\n\u001b[0;32m    304\u001b[0m   \u001b[1;32mdef\u001b[0m \u001b[0mon_train_batch_begin\u001b[0m\u001b[1;33m(\u001b[0m\u001b[0mself\u001b[0m\u001b[1;33m,\u001b[0m \u001b[0mbatch\u001b[0m\u001b[1;33m,\u001b[0m \u001b[0mlogs\u001b[0m\u001b[1;33m=\u001b[0m\u001b[1;32mNone\u001b[0m\u001b[1;33m)\u001b[0m\u001b[1;33m:\u001b[0m\u001b[1;33m\u001b[0m\u001b[1;33m\u001b[0m\u001b[0m\n",
      "\u001b[1;32m~\\Anaconda3\\lib\\site-packages\\tensorflow_core\\python\\keras\\callbacks.py\u001b[0m in \u001b[0;36mon_epoch_end\u001b[1;34m(self, epoch, logs)\u001b[0m\n\u001b[0;32m    990\u001b[0m           \u001b[0mself\u001b[0m\u001b[1;33m.\u001b[0m\u001b[0m_save_model\u001b[0m\u001b[1;33m(\u001b[0m\u001b[0mepoch\u001b[0m\u001b[1;33m=\u001b[0m\u001b[0mepoch\u001b[0m\u001b[1;33m,\u001b[0m \u001b[0mlogs\u001b[0m\u001b[1;33m=\u001b[0m\u001b[0mlogs\u001b[0m\u001b[1;33m)\u001b[0m\u001b[1;33m\u001b[0m\u001b[1;33m\u001b[0m\u001b[0m\n\u001b[0;32m    991\u001b[0m       \u001b[1;32melse\u001b[0m\u001b[1;33m:\u001b[0m\u001b[1;33m\u001b[0m\u001b[1;33m\u001b[0m\u001b[0m\n\u001b[1;32m--> 992\u001b[1;33m         \u001b[0mself\u001b[0m\u001b[1;33m.\u001b[0m\u001b[0m_save_model\u001b[0m\u001b[1;33m(\u001b[0m\u001b[0mepoch\u001b[0m\u001b[1;33m=\u001b[0m\u001b[0mepoch\u001b[0m\u001b[1;33m,\u001b[0m \u001b[0mlogs\u001b[0m\u001b[1;33m=\u001b[0m\u001b[0mlogs\u001b[0m\u001b[1;33m)\u001b[0m\u001b[1;33m\u001b[0m\u001b[1;33m\u001b[0m\u001b[0m\n\u001b[0m\u001b[0;32m    993\u001b[0m     \u001b[1;32mif\u001b[0m \u001b[0mself\u001b[0m\u001b[1;33m.\u001b[0m\u001b[0mmodel\u001b[0m\u001b[1;33m.\u001b[0m\u001b[0m_in_multi_worker_mode\u001b[0m\u001b[1;33m(\u001b[0m\u001b[1;33m)\u001b[0m\u001b[1;33m:\u001b[0m\u001b[1;33m\u001b[0m\u001b[1;33m\u001b[0m\u001b[0m\n\u001b[0;32m    994\u001b[0m       \u001b[1;31m# For multi-worker training, back up the weights and current training\u001b[0m\u001b[1;33m\u001b[0m\u001b[1;33m\u001b[0m\u001b[1;33m\u001b[0m\u001b[0m\n",
      "\u001b[1;32m~\\Anaconda3\\lib\\site-packages\\tensorflow_core\\python\\keras\\callbacks.py\u001b[0m in \u001b[0;36m_save_model\u001b[1;34m(self, epoch, logs)\u001b[0m\n\u001b[0;32m   1009\u001b[0m                   int) or self.epochs_since_last_save >= self.period:\n\u001b[0;32m   1010\u001b[0m       \u001b[0mself\u001b[0m\u001b[1;33m.\u001b[0m\u001b[0mepochs_since_last_save\u001b[0m \u001b[1;33m=\u001b[0m \u001b[1;36m0\u001b[0m\u001b[1;33m\u001b[0m\u001b[1;33m\u001b[0m\u001b[0m\n\u001b[1;32m-> 1011\u001b[1;33m       \u001b[0mfilepath\u001b[0m \u001b[1;33m=\u001b[0m \u001b[0mself\u001b[0m\u001b[1;33m.\u001b[0m\u001b[0m_get_file_path\u001b[0m\u001b[1;33m(\u001b[0m\u001b[0mepoch\u001b[0m\u001b[1;33m,\u001b[0m \u001b[0mlogs\u001b[0m\u001b[1;33m)\u001b[0m\u001b[1;33m\u001b[0m\u001b[1;33m\u001b[0m\u001b[0m\n\u001b[0m\u001b[0;32m   1012\u001b[0m \u001b[1;33m\u001b[0m\u001b[0m\n\u001b[0;32m   1013\u001b[0m       \u001b[1;32mtry\u001b[0m\u001b[1;33m:\u001b[0m\u001b[1;33m\u001b[0m\u001b[1;33m\u001b[0m\u001b[0m\n",
      "\u001b[1;32m~\\Anaconda3\\lib\\site-packages\\tensorflow_core\\python\\keras\\callbacks.py\u001b[0m in \u001b[0;36m_get_file_path\u001b[1;34m(self, epoch, logs)\u001b[0m\n\u001b[0;32m   1053\u001b[0m     if not self.model._in_multi_worker_mode(\n\u001b[0;32m   1054\u001b[0m     ) or multi_worker_util.should_save_checkpoint():\n\u001b[1;32m-> 1055\u001b[1;33m       \u001b[1;32mreturn\u001b[0m \u001b[0mself\u001b[0m\u001b[1;33m.\u001b[0m\u001b[0mfilepath\u001b[0m\u001b[1;33m.\u001b[0m\u001b[0mformat\u001b[0m\u001b[1;33m(\u001b[0m\u001b[0mepoch\u001b[0m\u001b[1;33m=\u001b[0m\u001b[0mepoch\u001b[0m \u001b[1;33m+\u001b[0m \u001b[1;36m1\u001b[0m\u001b[1;33m,\u001b[0m \u001b[1;33m**\u001b[0m\u001b[0mlogs\u001b[0m\u001b[1;33m)\u001b[0m\u001b[1;33m\u001b[0m\u001b[1;33m\u001b[0m\u001b[0m\n\u001b[0m\u001b[0;32m   1056\u001b[0m     \u001b[1;32melse\u001b[0m\u001b[1;33m:\u001b[0m\u001b[1;33m\u001b[0m\u001b[1;33m\u001b[0m\u001b[0m\n\u001b[0;32m   1057\u001b[0m       \u001b[1;31m# If this is multi-worker training, and this worker should not\u001b[0m\u001b[1;33m\u001b[0m\u001b[1;33m\u001b[0m\u001b[1;33m\u001b[0m\u001b[0m\n",
      "\u001b[1;31mKeyError\u001b[0m: 'val_accuracy'"
     ]
    }
   ],
   "source": [
    "#fit\n",
    "resnet_finetune = model.fit(train_generator, steps_per_epoch=nb_train_samples // batch_size, \n",
    "                                 epochs=num_epochs, validation_data=validation_generator, \n",
    "                                 validation_steps=nb_validation_samples // batch_size, verbose=1,\n",
    "                                 callbacks=callbacks)"
   ]
  },
  {
   "cell_type": "code",
   "execution_count": null,
   "metadata": {
    "Collapsed": "false"
   },
   "outputs": [],
   "source": [
    "# resnet sample code to test\n",
    "# img_path = '1280px-African_Bush_Elephant.jpg'\n",
    "# img = image.load_img(img_path, target_size=(224, 224))\n",
    "# x = image.img_to_array(img)\n",
    "# x = np.expand_dims(x, axis=0)\n",
    "# x = preprocess_input(x)\n",
    "\n",
    "# preds = model.predict(x)\n",
    "# # decode the results into a list of tuples (class, description, probability)\n",
    "# # (one such list for each sample in the batch)\n",
    "# print('Predicted:', decode_predictions(preds, top=3)[0])\n",
    "# # Predicted: [(u'n02504013', u'Indian_elephant', 0.82658225), (u'n01871265', u'tusker', 0.1122357), (u'n02504458', u'African_elephant', 0.061040461)]"
   ]
  },
  {
   "cell_type": "markdown",
   "metadata": {
    "Collapsed": "false"
   },
   "source": [
    "## MODEL: ResNet50 Bottlenecked"
   ]
  },
  {
   "cell_type": "code",
   "execution_count": 23,
   "metadata": {
    "Collapsed": "false"
   },
   "outputs": [
    {
     "name": "stdout",
     "output_type": "stream",
     "text": [
      "Collecting tensorflow_hub>=0.6.0\n",
      "  Downloading https://files.pythonhosted.org/packages/fb/9d/d5772f94e31431cdb56a8bb2c34d8839bb7d7621f2a5959f4ef43207d7ac/tensorflow_hub-0.8.0-py2.py3-none-any.whl (101kB)\n",
      "Requirement already satisfied: six>=1.12.0 in c:\\users\\s\\anaconda3\\lib\\site-packages (from tensorflow_hub>=0.6.0) (1.12.0)\n",
      "Requirement already satisfied: numpy>=1.12.0 in c:\\users\\s\\anaconda3\\lib\\site-packages (from tensorflow_hub>=0.6.0) (1.16.5)\n",
      "Requirement already satisfied: protobuf>=3.8.0 in c:\\users\\s\\anaconda3\\lib\\site-packages (from tensorflow_hub>=0.6.0) (3.11.3)\n",
      "Requirement already satisfied: setuptools in c:\\users\\s\\anaconda3\\lib\\site-packages (from protobuf>=3.8.0->tensorflow_hub>=0.6.0) (41.4.0)\n",
      "Installing collected packages: tensorflow-hub\n",
      "Successfully installed tensorflow-hub-0.8.0\n"
     ]
    }
   ],
   "source": [
    "!pip install \"tensorflow_hub>=0.6.0\""
   ]
  },
  {
   "cell_type": "code",
   "execution_count": 11,
   "metadata": {
    "Collapsed": "false"
   },
   "outputs": [
    {
     "name": "stdout",
     "output_type": "stream",
     "text": [
      "TF version: 2.1.0\n",
      "WARNING:tensorflow:From <ipython-input-11-1ac7f3e629d5>:5: is_gpu_available (from tensorflow.python.framework.test_util) is deprecated and will be removed in a future version.\n",
      "Instructions for updating:\n",
      "Use `tf.config.list_physical_devices('GPU')` instead.\n",
      "GPU is available\n"
     ]
    }
   ],
   "source": [
    "#import tensorflow_hub as hub\n",
    "\n",
    "print(\"TF version:\", tf.__version__)\n",
    "#print(\"Hub version:\", hub.__version__)\n",
    "print(\"GPU is\", \"available\" if tf.test.is_gpu_available() else \"NOT AVAILABLE\")"
   ]
  },
  {
   "cell_type": "code",
   "execution_count": 28,
   "metadata": {
    "Collapsed": "false"
   },
   "outputs": [
    {
     "name": "stdout",
     "output_type": "stream",
     "text": [
      "Using https://tfhub.dev/google/imagenet/resnet_v2_50/feature_vector/4 with input size (64, 64)\n"
     ]
    }
   ],
   "source": [
    "# pixels = 64\n",
    "# module_url = \"https://tfhub.dev/google/imagenet/resnet_v2_50/feature_vector/4\"\n",
    "\n",
    "# MODULE_HANDLE =\"https://tfhub.dev/google/imagenet/resnet_v2_50/feature_vector/4\"\n",
    "# IMAGE_SIZE = (pixels, pixels)\n",
    "# print(\"Using {} with input size {}\".format(MODULE_HANDLE, IMAGE_SIZE))\n",
    "\n",
    "# BATCH_SIZE = 32 #@param {type:\"integer\"}"
   ]
  },
  {
   "cell_type": "code",
   "execution_count": 30,
   "metadata": {
    "Collapsed": "false"
   },
   "outputs": [],
   "source": [
    "# do_fine_tuning = False"
   ]
  },
  {
   "cell_type": "code",
   "execution_count": 31,
   "metadata": {
    "Collapsed": "false"
   },
   "outputs": [
    {
     "name": "stdout",
     "output_type": "stream",
     "text": [
      "Building model with https://tfhub.dev/google/imagenet/resnet_v2_50/feature_vector/4\n",
      "Model: \"sequential_1\"\n",
      "_________________________________________________________________\n",
      "Layer (type)                 Output Shape              Param #   \n",
      "=================================================================\n",
      "keras_layer (KerasLayer)     (None, 2048)              23564800  \n",
      "_________________________________________________________________\n",
      "dropout_4 (Dropout)          (None, 2048)              0         \n",
      "_________________________________________________________________\n",
      "dense (Dense)                (None, 2)                 4098      \n",
      "=================================================================\n",
      "Total params: 23,568,898\n",
      "Trainable params: 4,098\n",
      "Non-trainable params: 23,564,800\n",
      "_________________________________________________________________\n"
     ]
    }
   ],
   "source": [
    "# print(\"Building model with\", MODULE_HANDLE)\n",
    "# model = tf.keras.Sequential([\n",
    "#     # Explicitly define the input shape so the model can be properly\n",
    "#     # loaded by the TFLiteConverter\n",
    "#     tf.keras.layers.InputLayer(input_shape=IMAGE_SIZE + (3,)),\n",
    "#     hub.KerasLayer(MODULE_HANDLE, trainable=do_fine_tuning),\n",
    "#     tf.keras.layers.Dropout(rate=0.2),\n",
    "#     tf.keras.layers.Dense(train_generator.num_classes,\n",
    "#                           kernel_regularizer=tf.keras.regularizers.l2(0.0001))\n",
    "# ])\n",
    "# model.build((None,)+IMAGE_SIZE+(3,))\n",
    "# model.summary()"
   ]
  },
  {
   "cell_type": "code",
   "execution_count": 82,
   "metadata": {
    "Collapsed": "false"
   },
   "outputs": [
    {
     "name": "stdout",
     "output_type": "stream",
     "text": [
      "Model loaded.\n"
     ]
    }
   ],
   "source": [
    "top_model_weights_path = '../bottleneck_fc_model.h5'\n",
    "\n",
    "from tensorflow.keras.applications.resnet50 import ResNet50\n",
    "from tensorflow.keras.preprocessing import image\n",
    "from tensorflow.keras.applications.resnet50 import preprocess_input, decode_predictions\n",
    "import numpy as np\n",
    "from tensorflow.keras import optimizers\n",
    "from tensorflow.keras.layers import Dropout, Flatten, Dense\n",
    "\n",
    "\n",
    "# build the resnet50 network\n",
    "base_model = ResNet50(weights='imagenet', include_top=False, input_shape=(64,64,3))\n",
    "print('Model loaded.')\n"
   ]
  },
  {
   "cell_type": "code",
   "execution_count": 14,
   "metadata": {
    "Collapsed": "false"
   },
   "outputs": [
    {
     "ename": "NameError",
     "evalue": "name 'val_generator' is not defined",
     "output_type": "error",
     "traceback": [
      "\u001b[1;31m---------------------------------------------------------------------------\u001b[0m",
      "\u001b[1;31mNameError\u001b[0m                                 Traceback (most recent call last)",
      "\u001b[1;32m<ipython-input-14-faf99bd1fcb4>\u001b[0m in \u001b[0;36m<module>\u001b[1;34m\u001b[0m\n\u001b[0;32m      4\u001b[0m \u001b[1;33m\u001b[0m\u001b[0m\n\u001b[0;32m      5\u001b[0m bottleneck_features_validation = base_model.predict(\n\u001b[1;32m----> 6\u001b[1;33m     val_generator, steps=nb_validation_samples // batch_size)\n\u001b[0m\u001b[0;32m      7\u001b[0m \u001b[1;31m#np.save(open('bottleneck_features_validation.npy', 'wb'), bottleneck_features_validation)\u001b[0m\u001b[1;33m\u001b[0m\u001b[1;33m\u001b[0m\u001b[1;33m\u001b[0m\u001b[0m\n",
      "\u001b[1;31mNameError\u001b[0m: name 'val_generator' is not defined"
     ]
    }
   ],
   "source": [
    "bottleneck_features_train = base_model.predict(\n",
    "    train_generator, steps=nb_train_samples // batch_size)\n",
    "#np.save(open('bottleneck_features_train.npy', 'wb'), bottleneck_features_train)\n",
    "\n"
   ]
  },
  {
   "cell_type": "code",
   "execution_count": 15,
   "metadata": {
    "Collapsed": "false"
   },
   "outputs": [],
   "source": [
    "bottleneck_features_validation = base_model.predict(\n",
    "    validation_generator, steps=nb_validation_samples // batch_size)\n",
    "#np.save(open('bottleneck_features_validation.npy', 'wb'), bottleneck_features_validation)"
   ]
  },
  {
   "cell_type": "code",
   "execution_count": 16,
   "metadata": {
    "Collapsed": "false"
   },
   "outputs": [],
   "source": [
    "# build a classifier model to put on top of the convolutional model\n",
    "model = Sequential()\n",
    "model.add(Flatten(input_shape=base_model.output_shape[1:]))\n",
    "model.add(Dense(512, activation='relu'))\n",
    "model.add(Dropout(0.2))\n",
    "model.add(Dense(256, activation='relu'))\n",
    "model.add(Dropout(0.2))\n",
    "model.add(Dense(128, activation='relu'))\n",
    "model.add(Dropout(0.2))\n",
    "model.add(Dense(1, activation='sigmoid'))\n",
    "\n",
    "\n",
    "# note that it is necessary to start with a fully-trained\n",
    "# classifier, including the top classifier,\n",
    "# in order to successfully do fine-tuning\n",
    "#top_model.load_weights(top_model_weights_path)"
   ]
  },
  {
   "cell_type": "code",
   "execution_count": 83,
   "metadata": {
    "Collapsed": "false"
   },
   "outputs": [],
   "source": [
    "# resnet summary\n",
    "# base_model.summary()\n",
    "# i=0\n",
    "# for layer in base_model.layers:\n",
    "#     layer.trainable = False\n",
    "#     i = i+1\n",
    "#     print(i,layer.name)"
   ]
  },
  {
   "cell_type": "code",
   "execution_count": 17,
   "metadata": {
    "Collapsed": "false"
   },
   "outputs": [],
   "source": [
    "# compile the model with a SGD/momentum optimizer\n",
    "# and a very slow learning rate.\n",
    "model.compile(loss='binary_crossentropy',\n",
    "              optimizer=optimizers.SGD(lr=5e-4, momentum=0.9),\n",
    "              metrics=['accuracy'])"
   ]
  },
  {
   "cell_type": "code",
   "execution_count": 85,
   "metadata": {
    "Collapsed": "false"
   },
   "outputs": [],
   "source": [
    "#callbacks\n",
    "log_file_path = 'logs/' + dataset_name + '_training.log'\n",
    "csv_logger = CSVLogger(log_file_path, append=False)\n",
    "\n",
    "early_stop = EarlyStopping('val_loss', patience=patience)\n",
    "\n",
    "reduce_lr = ReduceLROnPlateau('val_loss', factor=0.1, patience=int(patience/4), verbose=1)\n",
    "\n",
    "trained_models_path = 'model_weights_gender_resnet/' + dataset_name + '_resnet50_finetune'\n",
    "model_names = trained_models_path + '.{epoch:02d}-{val_accuracy:.2f}.hdf5'\n",
    "model_checkpoint = ModelCheckpoint(model_names, monitor='val_accuracy', verbose=1, save_best_only=True)\n",
    "\n",
    "callbacks = [model_checkpoint, csv_logger, early_stop, reduce_lr]"
   ]
  },
  {
   "cell_type": "code",
   "execution_count": 86,
   "metadata": {
    "Collapsed": "false"
   },
   "outputs": [
    {
     "data": {
      "text/plain": [
       "12"
      ]
     },
     "execution_count": 86,
     "metadata": {},
     "output_type": "execute_result"
    }
   ],
   "source": [
    "# model.trainable=True\n",
    "\n",
    "len(model.trainable_weights)\n"
   ]
  },
  {
   "cell_type": "code",
   "execution_count": null,
   "metadata": {
    "Collapsed": "false"
   },
   "outputs": [
    {
     "name": "stdout",
     "output_type": "stream",
     "text": [
      "WARNING:tensorflow:sample_weight modes were coerced from\n",
      "  ...\n",
      "    to  \n",
      "  ['...']\n",
      "WARNING:tensorflow:sample_weight modes were coerced from\n",
      "  ...\n",
      "    to  \n",
      "  ['...']\n",
      "Train for 2673 steps, validate for 839 steps\n",
      "Epoch 1/100\n",
      "2672/2673 [============================>.] - ETA: 0s - loss: 0.5771 - accuracy: 0.6974\n",
      "Epoch 00001: val_accuracy improved from -inf to 0.27199, saving model to model_weights_gender_resnet/imdb_resnet50_finetune.01-0.27.hdf5\n",
      "2673/2673 [==============================] - 602s 225ms/step - loss: 0.5771 - accuracy: 0.6974 - val_loss: 0.7091 - val_accuracy: 0.2720\n",
      "Epoch 2/100\n",
      "2672/2673 [============================>.] - ETA: 0s - loss: 0.5241 - accuracy: 0.7383\n",
      "Epoch 00002: val_accuracy did not improve from 0.27199\n",
      "2673/2673 [==============================] - 602s 225ms/step - loss: 0.5241 - accuracy: 0.7383 - val_loss: 0.7147 - val_accuracy: 0.2518\n",
      "Epoch 3/100\n",
      "2672/2673 [============================>.] - ETA: 0s - loss: 0.5104 - accuracy: 0.7486"
     ]
    }
   ],
   "source": [
    "#fit\n",
    "resnet_finetune = model.fit(train_generator, steps_per_epoch=nb_train_samples // batch_size, \n",
    "                                 epochs=num_epochs, validation_data=validation_generator, \n",
    "                                 validation_steps=nb_validation_samples // batch_size, verbose=1,\n",
    "                                 callbacks=callbacks)"
   ]
  },
  {
   "cell_type": "code",
   "execution_count": null,
   "metadata": {
    "Collapsed": "false"
   },
   "outputs": [],
   "source": [
    "# resnet sample code to test\n",
    "# img_path = '1280px-African_Bush_Elephant.jpg'\n",
    "# img = image.load_img(img_path, target_size=(224, 224))\n",
    "# x = image.img_to_array(img)\n",
    "# x = np.expand_dims(x, axis=0)\n",
    "# x = preprocess_input(x)\n",
    "\n",
    "# preds = model.predict(x)\n",
    "# # decode the results into a list of tuples (class, description, probability)\n",
    "# # (one such list for each sample in the batch)\n",
    "# print('Predicted:', decode_predictions(preds, top=3)[0])\n",
    "# # Predicted: [(u'n02504013', u'Indian_elephant', 0.82658225), (u'n01871265', u'tusker', 0.1122357), (u'n02504458', u'African_elephant', 0.061040461)]"
   ]
  }
 ],
 "metadata": {
  "kernelspec": {
   "display_name": "Python 3",
   "language": "python",
   "name": "python3"
  },
  "language_info": {
   "codemirror_mode": {
    "name": "ipython",
    "version": 3
   },
   "file_extension": ".py",
   "mimetype": "text/x-python",
   "name": "python",
   "nbconvert_exporter": "python",
   "pygments_lexer": "ipython3",
   "version": "3.7.6"
  }
 },
 "nbformat": 4,
 "nbformat_minor": 4
}
